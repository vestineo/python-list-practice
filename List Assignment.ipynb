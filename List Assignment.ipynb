{
 "cells": [
  {
   "cell_type": "markdown",
   "id": "5f428824-736f-47ed-a838-921323fb39db",
   "metadata": {},
   "source": [
    "**1. Write a Python program to sum all the items**"
   ]
  },
  {
   "cell_type": "code",
   "execution_count": 1,
   "id": "139e478b-d566-4812-a192-fbfb31ed4ce9",
   "metadata": {},
   "outputs": [
    {
     "data": {
      "text/plain": [
       "26"
      ]
     },
     "execution_count": 1,
     "metadata": {},
     "output_type": "execute_result"
    }
   ],
   "source": [
    "l = [1,7,-10,34,2,-8]\n",
    "sum(l)"
   ]
  },
  {
   "cell_type": "markdown",
   "id": "495134d3-02cf-4493-95db-b7264063f1dc",
   "metadata": {},
   "source": [
    "**2. Write a Python program to multiply all the items in a list**"
   ]
  },
  {
   "cell_type": "code",
   "execution_count": 10,
   "id": "ff84d099-667b-4d4d-9d96-28019cc5dc18",
   "metadata": {},
   "outputs": [],
   "source": [
    "def multiply(l):\n",
    "    result = 1\n",
    "    for i in l:\n",
    "        result = resulti\n",
    "        print(result)\n",
    "    return result"
   ]
  },
  {
   "cell_type": "code",
   "execution_count": 11,
   "id": "1ea97582-20b6-4162-8f92-02a416f074a3",
   "metadata": {},
   "outputs": [
    {
     "data": {
      "text/plain": [
       "1680"
      ]
     },
     "execution_count": 11,
     "metadata": {},
     "output_type": "execute_result"
    }
   ],
   "source": [
    "l = [3,4,5,4,7]\n",
    "multiply(l)"
   ]
  },
  {
   "cell_type": "markdown",
   "id": "6f3a1bb1-5fea-47a2-b7f7-ac4d3ccf8ac5",
   "metadata": {},
   "source": [
    "**3. Write a Python program to get the largest number from a list**"
   ]
  },
  {
   "cell_type": "code",
   "execution_count": 12,
   "id": "a4ed3244-798a-4d24-9425-baa4635d0919",
   "metadata": {},
   "outputs": [
    {
     "data": {
      "text/plain": [
       "34"
      ]
     },
     "execution_count": 12,
     "metadata": {},
     "output_type": "execute_result"
    }
   ],
   "source": [
    "l = [1,7,10,34,2,8]\n",
    "max(l)"
   ]
  },
  {
   "cell_type": "markdown",
   "id": "5a7cadd2-ccbd-4c44-a65f-d7d68c1f7ec1",
   "metadata": {},
   "source": [
    "**4. Write a Python program to get the smallest number from a list**"
   ]
  },
  {
   "cell_type": "code",
   "execution_count": 13,
   "id": "18d4f630-ae52-4e88-a2f6-0d1772c03544",
   "metadata": {},
   "outputs": [
    {
     "data": {
      "text/plain": [
       "2"
      ]
     },
     "execution_count": 13,
     "metadata": {},
     "output_type": "execute_result"
    }
   ],
   "source": [
    "l = [51,7,10,34,2,8]\n",
    "min(l)"
   ]
  },
  {
   "cell_type": "markdown",
   "id": "92e676c7-1eb5-4806-91ab-167aa98ab19c",
   "metadata": {},
   "source": [
    "**5. Write a Python program to count the number of strings where the string length is 2 or more and the first and last character are same from a given list of strings**"
   ]
  },
  {
   "cell_type": "code",
   "execution_count": 16,
   "id": "de4189fe-2d73-43b2-b85c-7b1d06e85c9d",
   "metadata": {},
   "outputs": [],
   "source": [
    "def countstring(l):\n",
    "    count = 0\n",
    "    for s in l:\n",
    "        if len(s) >= 2 and s[0] == s[-1]:\n",
    "            count += 1\n",
    "    print(f\"Strings witth first and last character same are: {count}\")"
   ]
  },
  {
   "cell_type": "code",
   "execution_count": 17,
   "id": "5444a534-49c4-4a0f-9fbd-6016b9f16637",
   "metadata": {},
   "outputs": [
    {
     "name": "stdout",
     "output_type": "stream",
     "text": [
      "Strings witth first and last character same are: 2\n"
     ]
    }
   ],
   "source": [
    "l = ['abc', 'xyz', 'aba', '1221']\n",
    "countstring(l)"
   ]
  },
  {
   "cell_type": "markdown",
   "id": "d99e79d4-6812-4d98-8a46-5d1bfa68b223",
   "metadata": {},
   "source": [
    "**6. Write a Python program to remove duplicates from a list**"
   ]
  },
  {
   "cell_type": "code",
   "execution_count": 18,
   "id": "f28d5678-9f6d-4287-ab72-55cd4456eddf",
   "metadata": {},
   "outputs": [],
   "source": [
    "def removeduplicate(l):\n",
    "    return list(set(l))"
   ]
  },
  {
   "cell_type": "code",
   "execution_count": 20,
   "id": "f93661fd-8247-4eec-894b-b6ec3c8a5e5f",
   "metadata": {},
   "outputs": [
    {
     "data": {
      "text/plain": [
       "[1, 2, 3, 4, 5, 6, 7, 8]"
      ]
     },
     "execution_count": 20,
     "metadata": {},
     "output_type": "execute_result"
    }
   ],
   "source": [
    "l = [1,2,3,7,2,1,5,6,4,8,5,4]\n",
    "removeduplicate(l)"
   ]
  },
  {
   "cell_type": "markdown",
   "id": "389264f5-3670-4f91-aedf-fad8175b09eb",
   "metadata": {},
   "source": [
    "**7. Write a Python program to check a list is empty or not**"
   ]
  },
  {
   "cell_type": "code",
   "execution_count": 21,
   "id": "9dfcc406-f9e9-459f-bcc3-e1263f32a6a1",
   "metadata": {},
   "outputs": [],
   "source": [
    "def emptyOrNot(l):\n",
    "    if len(l) == 0:\n",
    "        print(\"List is Empty\")\n",
    "    else:\n",
    "        print(\"List is Not Empty\")"
   ]
  },
  {
   "cell_type": "code",
   "execution_count": 22,
   "id": "632308ae-c18a-4988-8855-c52bd37ed965",
   "metadata": {},
   "outputs": [
    {
     "name": "stdout",
     "output_type": "stream",
     "text": [
      "List is Not Empty\n"
     ]
    }
   ],
   "source": [
    "l7 = [34,45,6,5,4,56,7]\n",
    "emptyOrNot(l7)"
   ]
  },
  {
   "cell_type": "code",
   "execution_count": 23,
   "id": "53e848ca-a060-4133-b2b2-f103b4c91085",
   "metadata": {},
   "outputs": [
    {
     "name": "stdout",
     "output_type": "stream",
     "text": [
      "List is Empty\n"
     ]
    }
   ],
   "source": [
    "l7a = []\n",
    "emptyOrNot(l7a)"
   ]
  },
  {
   "cell_type": "markdown",
   "id": "e1372f50-5e8d-4508-9602-f4bb06acba71",
   "metadata": {},
   "source": [
    "__8. Write a Python program to clone or copy a list__"
   ]
  },
  {
   "cell_type": "code",
   "execution_count": 26,
   "id": "1a878457-ee97-42ec-a885-cd1d23250a9f",
   "metadata": {},
   "outputs": [
    {
     "name": "stdout",
     "output_type": "stream",
     "text": [
      "Clone or copy of list :  [10, 22, 44, 23, 4]\n"
     ]
    }
   ],
   "source": [
    "l8 = [10, 22, 44, 23, 4]\n",
    "l8copy = l8.copy()\n",
    "print(\"Clone or copy of list : \", l8copy)"
   ]
  },
  {
   "cell_type": "markdown",
   "id": "8c6d26b5-9f15-4159-af9b-bd3e70e5b830",
   "metadata": {},
   "source": [
    "**9. Write a Python program to find the list of words that are longer than n from a given list\n",
    "of words**"
   ]
  },
  {
   "cell_type": "code",
   "execution_count": 28,
   "id": "000ff26c-6deb-463b-923c-7e8548a661a2",
   "metadata": {},
   "outputs": [],
   "source": [
    "def nlistofwords(l,n):\n",
    "    for s in l:\n",
    "        if len(s) < n:\n",
    "            l.remove(s)\n",
    "    print(f\"Given value of n : {n}\")\n",
    "    print(f\"List without words longer than {n} : {l}\")"
   ]
  },
  {
   "cell_type": "code",
   "execution_count": 31,
   "id": "8f338071-dbb8-47cf-86f8-42ebf4a679cb",
   "metadata": {},
   "outputs": [
    {
     "name": "stdout",
     "output_type": "stream",
     "text": [
      "Given value of n : 4\n",
      "List without words longer than 4 : ['Words', 'Longer', 'github', 'given', 'Words']\n"
     ]
    }
   ],
   "source": [
    "l9 = ['cat', 'Words', 'xy', 'Longer', 'github', 'bye', 'given', 'Words']\n",
    "nlistofwords(l9, 4)"
   ]
  },
  {
   "cell_type": "markdown",
   "id": "64949f5c-ba53-49fe-b72f-3ff8e76c3507",
   "metadata": {},
   "source": [
    "**10. Write a Program that get two lists as input and check if they have at least one common member**"
   ]
  },
  {
   "cell_type": "code",
   "execution_count": 40,
   "id": "db197551-af51-4d10-a6fb-14c385eaa6c0",
   "metadata": {},
   "outputs": [],
   "source": [
    "def leastcommon(l1, l2):\n",
    "    result = False\n",
    "    for e in l1:\n",
    "        if e in l2:\n",
    "            result = True\n",
    "    print(\"Lists have at least one common member\") if result else print(\"Lists have no common member\")\n",
    "    "
   ]
  },
  {
   "cell_type": "code",
   "execution_count": 41,
   "id": "d9caf925-902b-47c3-a544-da8c1eff2cbf",
   "metadata": {},
   "outputs": [
    {
     "name": "stdout",
     "output_type": "stream",
     "text": [
      "Lists have at least one common member\n"
     ]
    }
   ],
   "source": [
    "l10a = [1,2,3,4,5]\n",
    "l10b = [5,6,7,8,9]\n",
    "leastcommon(l10a, l10b)"
   ]
  },
  {
   "cell_type": "code",
   "execution_count": 42,
   "id": "89a78918-2d14-4897-8708-397c5878e9ce",
   "metadata": {},
   "outputs": [
    {
     "name": "stdout",
     "output_type": "stream",
     "text": [
      "Lists have no common member\n"
     ]
    }
   ],
   "source": [
    "l10a = [1,2,3,4,5]\n",
    "l10b = [6,7,8,9]\n",
    "leastcommon(l10a, l10b)"
   ]
  },
  {
   "cell_type": "markdown",
   "id": "fcad8bd1-ced3-41cc-a493-62d2d2be8968",
   "metadata": {},
   "source": [
    "**11. Write a Python program to print a specified list after removing the 0th, 4th and 5th\n",
    "elements. (enumerate)**"
   ]
  },
  {
   "cell_type": "code",
   "execution_count": 49,
   "id": "3dd6e182-de41-44c7-aed8-673367a8a30c",
   "metadata": {},
   "outputs": [],
   "source": [
    "def remove045(l):\n",
    "    lc = l.copy()\n",
    "    for i, e in enumerate(l):\n",
    "        if i ==0 or i == 4 or i ==5:\n",
    "            lc.remove(e)\n",
    "    print(lc)"
   ]
  },
  {
   "cell_type": "code",
   "execution_count": 50,
   "id": "cb7d79f8-b74f-45c5-8b0c-4548560bbd3a",
   "metadata": {},
   "outputs": [
    {
     "name": "stdout",
     "output_type": "stream",
     "text": [
      "['Dog', 'Elephant', 'Fox', 'Ponda']\n"
     ]
    }
   ],
   "source": [
    "l11 = [\"Cat\", \"Dog\", \"Elephant\", \"Fox\", \"Tiger\", \"Lion\", \"Ponda\"]\n",
    "remove045(l11)"
   ]
  },
  {
   "cell_type": "markdown",
   "id": "fa3bbb5f-b3ba-4576-b3cd-c43660b2141b",
   "metadata": {},
   "source": [
    "**12. Write a Python program to print the numbers of a specified list after removing even\n",
    "numbers from it**"
   ]
  },
  {
   "cell_type": "code",
   "execution_count": 52,
   "id": "882c15c5-e160-4796-bbfc-d35048e23b3d",
   "metadata": {},
   "outputs": [
    {
     "data": {
      "text/plain": [
       "[7, 81, 25, 23, 27]"
      ]
     },
     "execution_count": 52,
     "metadata": {},
     "output_type": "execute_result"
    }
   ],
   "source": [
    "l12 = [7,32,81,20,25,14,23,27]\n",
    "list(filter(lambda x: x % 2 != 0, l12))"
   ]
  },
  {
   "cell_type": "markdown",
   "id": "5556c3b7-530c-4788-86ca-58c73316d1bb",
   "metadata": {},
   "source": [
    "**13. Write a Python program to shuffle and print a specified list (shuffle)**"
   ]
  },
  {
   "cell_type": "code",
   "execution_count": 56,
   "id": "a2c27bd8-1654-41dd-bc43-e97ef33c1c46",
   "metadata": {},
   "outputs": [
    {
     "name": "stdout",
     "output_type": "stream",
     "text": [
      "['Cat', 'Fox', 'Ponda', 'Elephant', 'Tiger', 'Dog', 'Lion']\n"
     ]
    }
   ],
   "source": [
    "import random\n",
    "l13 = [\"Cat\", \"Dog\", \"Elephant\", \"Fox\", \"Tiger\", \"Lion\", \"Ponda\"]\n",
    "l13ans = sorted(l13, key=lambda x: random.random())\n",
    "print(l13ans)"
   ]
  },
  {
   "cell_type": "markdown",
   "id": "418cbad8-4158-451d-97b9-09dfd10b0737",
   "metadata": {},
   "source": [
    "**14. Write a Python program to generate and print a list of first and last 5 elements where\n",
    "the values are square of numbers between 1 and 30**"
   ]
  },
  {
   "cell_type": "code",
   "execution_count": 72,
   "id": "57527d4f-27d2-4547-b99f-3a1b066916e6",
   "metadata": {},
   "outputs": [],
   "source": [
    "def filterandsquare(l):\n",
    "    newList = []\n",
    "    for c in l:\n",
    "        newList.append(c*c)\n",
    "    print(f\"First five : \", newList[:5])\n",
    "    print(f\"Last five : \", newList[-5:])"
   ]
  },
  {
   "cell_type": "code",
   "execution_count": 73,
   "id": "bd99feae-a814-4c88-83ac-18c4559844ce",
   "metadata": {},
   "outputs": [
    {
     "name": "stdout",
     "output_type": "stream",
     "text": [
      "First five :  [1, 4, 9, 16, 25]\n",
      "Last five :  [625, 676, 729, 784, 841]\n"
     ]
    }
   ],
   "source": [
    "l14 = [*range(1,30)]\n",
    "filterandsquare(l14)"
   ]
  },
  {
   "cell_type": "markdown",
   "id": "28532646-ed04-4637-8795-7413dee543a0",
   "metadata": {},
   "source": [
    "**15. Write a Python program to generate all permutations of a list in Python. (itertools)**"
   ]
  },
  {
   "cell_type": "code",
   "execution_count": 75,
   "id": "aecb583c-e05f-4739-bf0b-5be7db1d3ec2",
   "metadata": {},
   "outputs": [
    {
     "name": "stdout",
     "output_type": "stream",
     "text": [
      "[(1, 2, 3), (1, 3, 2), (2, 1, 3), (2, 3, 1), (3, 1, 2), (3, 2, 1)]\n"
     ]
    }
   ],
   "source": [
    "from itertools import permutations\n",
    "l15 = [1,2,3]\n",
    "print(list(permutations(l15)))"
   ]
  },
  {
   "cell_type": "markdown",
   "id": "a6d4d9ab-f838-41f5-a807-0175812b335e",
   "metadata": {},
   "source": [
    "**16. Write a Python program to convert a list of characters into a string**"
   ]
  },
  {
   "cell_type": "code",
   "execution_count": 83,
   "id": "3ea0bcf1-7ab5-43ef-92b8-4f1ec03ef49e",
   "metadata": {},
   "outputs": [
    {
     "data": {
      "text/plain": [
       "'Tutor Joes'"
      ]
     },
     "execution_count": 83,
     "metadata": {},
     "output_type": "execute_result"
    }
   ],
   "source": [
    "l16 = ['T','u','t','o','r',' ','J','o','e','s']\n",
    "\"\".join(l16)"
   ]
  },
  {
   "cell_type": "markdown",
   "id": "7a8afcc8-3530-4d6f-bda3-5cdbb6babfd2",
   "metadata": {},
   "source": [
    "**17. Write a Python program to find the index of an item in a specified list**"
   ]
  },
  {
   "cell_type": "code",
   "execution_count": 86,
   "id": "e0ff62ad-9b8d-4582-a3de-7b045966f0ba",
   "metadata": {},
   "outputs": [
    {
     "name": "stdout",
     "output_type": "stream",
     "text": [
      "Item to find the index of 30\n",
      "Index Number of Item = 2\n"
     ]
    }
   ],
   "source": [
    "l17 = [20, 70, 30, 90, 10, 30, 90, 10, 80]\n",
    "n = 30\n",
    "print(f\"Item to find the index of {n}\")\n",
    "print(f\"Index Number of Item = {l17.index(n)}\")"
   ]
  },
  {
   "cell_type": "markdown",
   "id": "5bf295f4-dfd0-4148-9903-35d8c1acd14e",
   "metadata": {},
   "source": [
    "**18. Write a Python program to flatten a shallow list**"
   ]
  },
  {
   "cell_type": "code",
   "execution_count": 94,
   "id": "2639fb50-3fef-40b9-81b7-cf1b9a3b5469",
   "metadata": {},
   "outputs": [
    {
     "name": "stdout",
     "output_type": "stream",
     "text": [
      "[20, 30, 70, 30, 90, 10, 30, 20, 70, 90, 10, 80]\n"
     ]
    }
   ],
   "source": [
    "l18 = [[20,30,70],[30,90,10], [30,20], [70,90,10,80]]\n",
    "l18ans = []\n",
    "for l in l18:\n",
    "    l18ans.extend(l)\n",
    "print(l18ans)"
   ]
  },
  {
   "cell_type": "markdown",
   "id": "6c9407a7-1853-4063-b707-74d0b7e6e48a",
   "metadata": {},
   "source": [
    "**19. Write a Python program to add a list to the second list**"
   ]
  },
  {
   "cell_type": "code",
   "execution_count": 99,
   "id": "3288e94d-9f2d-4868-8a07-d169d8e763cf",
   "metadata": {},
   "outputs": [
    {
     "name": "stdout",
     "output_type": "stream",
     "text": [
      "[10, 20, 30, 40, 'Cat', 'Dog', 'Lion', 'Ponda']\n"
     ]
    }
   ],
   "source": [
    "l19a = [10, 20, 30, 40]\n",
    "l19b = [\"Cat\", \"Dog\", \"Lion\", \"Ponda\"]\n",
    "l19ans = l19a + l19b\n",
    "print(l19ans)"
   ]
  },
  {
   "cell_type": "markdown",
   "id": "e825538b-debd-4c6a-93b8-bcb72a58b050",
   "metadata": {},
   "source": [
    "**20. Write a Python program to select an item randomly from a list Using random.choice()**"
   ]
  },
  {
   "cell_type": "code",
   "execution_count": 101,
   "id": "e969b208-4f92-4f14-8a0f-42fe50a9fda8",
   "metadata": {},
   "outputs": [
    {
     "name": "stdout",
     "output_type": "stream",
     "text": [
      "Item randomy select from a lisy is: Cat\n"
     ]
    }
   ],
   "source": [
    "l20 = [\"Cat\", \"Dog\", \"Elephant\", \"Fox\", \"Tiger\", \"Lion\", \"Ponda\"]\n",
    "print(f\"Item randomy select from a lisy is: {random.choice(l20)}\")"
   ]
  },
  {
   "cell_type": "markdown",
   "id": "7b84171a-dd33-4284-9c0d-2c77e83a3c31",
   "metadata": {},
   "source": [
    "**21. Write a python program to check whether two lists are circularly identical**"
   ]
  },
  {
   "cell_type": "code",
   "execution_count": 109,
   "id": "d5f127b3-852e-4c31-b5fd-51cae46a38b6",
   "metadata": {},
   "outputs": [
    {
     "name": "stdout",
     "output_type": "stream",
     "text": [
      "Compare List1 and List2: True\n",
      "Compare List1 and List2: False\n"
     ]
    }
   ],
   "source": [
    "l21a =[8, 8, 12, 12, 8]\n",
    "l21b = [8, 8, 8, 12, 12]\n",
    "l21c = [1, 8, 8, 12, 12]\n",
    "\n",
    "def circularyIdentical(l1, l2):\n",
    "    i = len(l2)\n",
    "    l2 = l2*2\n",
    "    l2 = l2[1:i+1]\n",
    "    print(f\"Compare List1 and List2: {l1 == l2}\")\n",
    "circularyIdentical(l21a, l21b)\n",
    "circularyIdentical(l21a, l21c)"
   ]
  },
  {
   "cell_type": "markdown",
   "id": "d1308ff1-5a1f-45c6-b97c-7ccfea98fbc7",
   "metadata": {},
   "source": [
    "**22. Write a Python program to find the second smallest number in a list**"
   ]
  },
  {
   "cell_type": "code",
   "execution_count": 122,
   "id": "89bf63ce-5d3e-4a08-9a78-d8afcdc1b21f",
   "metadata": {},
   "outputs": [
    {
     "name": "stdout",
     "output_type": "stream",
     "text": [
      "Second smallest number is: f4\n"
     ]
    }
   ],
   "source": [
    "l22 = [2,4,56,78,4,34,5,8,9]\n",
    "l22.sort()\n",
    "print(f\"Second smallest number is: f{l22[1]}\")"
   ]
  },
  {
   "cell_type": "markdown",
   "id": "930987a9-78f4-4c91-b402-3a7b86581722",
   "metadata": {},
   "source": [
    "**23. Write a Python program to find the second largest number in a list**"
   ]
  },
  {
   "cell_type": "code",
   "execution_count": 124,
   "id": "bb0c592b-5689-4f17-9b83-d966cf3cca9c",
   "metadata": {},
   "outputs": [
    {
     "name": "stdout",
     "output_type": "stream",
     "text": [
      "Second larget number is : 82\n"
     ]
    }
   ],
   "source": [
    "l23 = [82,4,56,78,4,34,5,100,9]\n",
    "l23.sort()\n",
    "print(f\"Second larget number is : {l23[-2]}\")"
   ]
  },
  {
   "cell_type": "markdown",
   "id": "67bf201e-baaa-43eb-b2f0-4a7589705ac3",
   "metadata": {},
   "source": [
    "**24. Write a Python program to get unique values from a list**"
   ]
  },
  {
   "cell_type": "code",
   "execution_count": 125,
   "id": "a0c628c2-488e-40d9-a9df-e3e4b99bbe72",
   "metadata": {},
   "outputs": [
    {
     "data": {
      "text/plain": [
       "[34, 4, 5, 9, 10, 78, 82, 56]"
      ]
     },
     "execution_count": 125,
     "metadata": {},
     "output_type": "execute_result"
    }
   ],
   "source": [
    "l24 = [82, 4, 10, 56, 78, 4, 34, 5, 10, 9]\n",
    "list(set(l24))"
   ]
  },
  {
   "cell_type": "markdown",
   "id": "2a68b083-ff3a-47d2-b950-74a29b570a91",
   "metadata": {},
   "source": [
    "**25. Write a Python program to get the frequency of the elements in a list.**"
   ]
  },
  {
   "cell_type": "code",
   "execution_count": 131,
   "id": "f2752429-6fd4-424c-92d5-6e2351898f00",
   "metadata": {},
   "outputs": [
    {
     "name": "stdout",
     "output_type": "stream",
     "text": [
      "{10: 2, 30: 2, 50: 3, 20: 2, 60: 2, 40: 2}\n"
     ]
    }
   ],
   "source": [
    "l25 = [10, 30, 50, 10, 20, 60, 20, 60, 40, 40, 50, 50, 30]\n",
    "counter = {}\n",
    "for e in l25:\n",
    "    counter[e] = l25.count(e)\n",
    "print(counter)"
   ]
  },
  {
   "cell_type": "markdown",
   "id": "ca9d43d0-2954-405b-8d7e-074f336a62e6",
   "metadata": {},
   "source": [
    "**26. Create a list by concatenating a given list which range goes from 1 to n**"
   ]
  },
  {
   "cell_type": "code",
   "execution_count": 134,
   "id": "24501a23-6a79-4d6a-ba66-5d3580dcd318",
   "metadata": {},
   "outputs": [
    {
     "name": "stdout",
     "output_type": "stream",
     "text": [
      "['T1', 'J1', 'T2', 'J2', 'T3', 'J3', 'T4', 'J4', 'T5', 'J5', 'T6', 'J6', 'T7', 'J7', 'T8', 'J8', 'T9', 'J9', 'T10', 'J10']\n"
     ]
    }
   ],
   "source": [
    "l26 = ['T', 'J']\n",
    "n = 10\n",
    "l26ans = []\n",
    "for i in range(1,n+1):\n",
    "    for e in l26:\n",
    "        l26ans.append(e + str(i))\n",
    "print(l26ans)"
   ]
  },
  {
   "cell_type": "markdown",
   "id": "0e4dc4ab-4064-4305-bc3a-8c0e5954ed96",
   "metadata": {},
   "source": [
    "**27. Write a Python program to get variable unique identification number or string**"
   ]
  },
  {
   "cell_type": "code",
   "execution_count": 135,
   "id": "dd04945b-33c8-424f-8a67-ab2bc90b4c29",
   "metadata": {},
   "outputs": [
    {
     "name": "stdout",
     "output_type": "stream",
     "text": [
      "Unique Identification Number : f1580226118800\n",
      "Unique Identification String : 1580342543856\n"
     ]
    }
   ],
   "source": [
    "x = 30\n",
    "s = \"Tutor Joes\"\n",
    "print(f\"Unique Identification Number : f{id(x)}\")\n",
    "print(f\"Unique Identification String : {id(s)}\")"
   ]
  },
  {
   "cell_type": "markdown",
   "id": "f31e71fd-e3b9-4d0c-9ac9-6f46271cb167",
   "metadata": {},
   "source": [
    "**28. Write a Python program to find common items from two lists**"
   ]
  },
  {
   "cell_type": "code",
   "execution_count": 138,
   "id": "568e05d3-ce3e-45ee-9d41-a1f50fcb8374",
   "metadata": {},
   "outputs": [
    {
     "name": "stdout",
     "output_type": "stream",
     "text": [
      "Common items from two lists are: [67, 89, 34]\n"
     ]
    }
   ],
   "source": [
    "l28a = [23,45,67,78,89,34]\n",
    "l28b = [34,89,55,56,39,67]\n",
    "l28ans = []\n",
    "for a in l28a:\n",
    "    if a in l28b:\n",
    "        l28ans.append(a)\n",
    "print(f\"Common items from two lists are: {l28ans}\")"
   ]
  },
  {
   "cell_type": "markdown",
   "id": "499ed575-05d6-4a5b-9e1c-c783d30348d4",
   "metadata": {},
   "source": [
    "**29. Write a Python program to split a list based on first character of word**"
   ]
  },
  {
   "cell_type": "code",
   "execution_count": 161,
   "id": "1605a7fc-59c2-423a-ae4a-2ee0421aa94e",
   "metadata": {},
   "outputs": [
    {
     "name": "stdout",
     "output_type": "stream",
     "text": [
      "F\n",
      "Fox\n",
      "S\n",
      "Shark\n",
      "Snake\n",
      "b\n",
      "bear\n",
      "c\n",
      "cat\n",
      "cow\n",
      "d\n",
      "dog\n",
      "l\n",
      "lion\n",
      "m\n",
      "monkey\n",
      "mouse\n",
      "t\n",
      "tiger\n",
      "turtle\n"
     ]
    }
   ],
   "source": [
    "l29 = [\"cat\", \"dog\", \"cow\", \"tiger\", \"lion\", \"Fox\", \"Shark\", \"Snake\", \"turtle\", \"mouse\", \"monkey\",\n",
    "\"bear\"]\n",
    "l29.sort()\n",
    "dictionary = {}\n",
    "for word in l29:\n",
    "   f = word[0]\n",
    "   if f in dictionary.keys():\n",
    "        dictionary[f].append(word)\n",
    "   else:\n",
    "        dictionary[f] = [word]\n",
    "\n",
    "for letter in dictionary:\n",
    "    print(letter)\n",
    "    print(\"\\n\".join(dictionary[letter]))"
   ]
  },
  {
   "cell_type": "markdown",
   "id": "4c39a1a7-a890-4752-8c36-6771a588b360",
   "metadata": {},
   "source": [
    "**30. Write a Python program to select the odd number of a list**"
   ]
  },
  {
   "cell_type": "code",
   "execution_count": 164,
   "id": "00237fed-3230-4629-8cc8-d5bb28cf3a30",
   "metadata": {},
   "outputs": [
    {
     "name": "stdout",
     "output_type": "stream",
     "text": [
      "[1, 3, 7, 5, 9, 7, 9]\n"
     ]
    }
   ],
   "source": [
    "l30 = [1,2,4,3,6,7,5,8,9,7,8,9,10]\n",
    "print(list(filter(lambda x: x%2 != 0, l30)))"
   ]
  },
  {
   "cell_type": "markdown",
   "id": "d871d9ab-d4b5-43e2-84e8-c334df8918d1",
   "metadata": {},
   "source": [
    "**31. Write a Python Program to count unique values inside a list**"
   ]
  },
  {
   "cell_type": "code",
   "execution_count": 166,
   "id": "55b46146-cc83-4c5d-8433-46a314ce6a1d",
   "metadata": {},
   "outputs": [
    {
     "name": "stdout",
     "output_type": "stream",
     "text": [
      "No of unique items in list : 6\n"
     ]
    }
   ],
   "source": [
    "l31 = [10, 20, 30, 50, 80, 70, 70, 80, 10]\n",
    "print(f\"No of unique items in list : {len(set(l31))}\")"
   ]
  },
  {
   "cell_type": "markdown",
   "id": "815128a7-c154-4dc5-8a94-09d1c56f31c8",
   "metadata": {},
   "source": [
    "**32. Write a Python Program to List product excluding duplicates**"
   ]
  },
  {
   "cell_type": "code",
   "execution_count": 168,
   "id": "6c933c29-dc4d-4ae2-8e68-50662bfd8783",
   "metadata": {},
   "outputs": [
    {
     "name": "stdout",
     "output_type": "stream",
     "text": [
      "List after duplicates removed [6, 3]\n"
     ]
    }
   ],
   "source": [
    "l32 = [2, 1, 2, 4, 6, 4, 3, 2, 1]\n",
    "l32ans = list(filter(lambda e: l32.count(e) < 2, l32))\n",
    "print(f\"List after duplicates removed {l32ans}\") "
   ]
  },
  {
   "cell_type": "markdown",
   "id": "4ed789cf-d732-48bf-bd15-b998ac662325",
   "metadata": {},
   "source": [
    "**33. Write a Python Program to Extract elements with Frequency greater than K**"
   ]
  },
  {
   "cell_type": "code",
   "execution_count": 169,
   "id": "062d2ee1-5630-4b43-809f-3e54e6de6e7d",
   "metadata": {},
   "outputs": [
    {
     "name": "stdout",
     "output_type": "stream",
     "text": [
      "List after extracting elements with frequency greater than 2: [4, 4, 3, 3, 4, 3]\n"
     ]
    }
   ],
   "source": [
    "l33 = [4, 6, 4, 3, 3, 4, 3, 7, 8, 8]\n",
    "k = 2\n",
    "l33ans = list(filter(lambda e: l33.count(e) > k, l33))\n",
    "print(f\"List after extracting elements with frequency greater than {k}: {l33ans}\") "
   ]
  },
  {
   "cell_type": "markdown",
   "id": "48bbbfbd-ffe0-4c41-bc10-08acfcd8bf14",
   "metadata": {},
   "source": [
    "**34. Write a Python Program to Test if List contains elements in Range**"
   ]
  },
  {
   "cell_type": "code",
   "execution_count": 172,
   "id": "cb2e368a-2e50-49e3-8681-058882d7f298",
   "metadata": {},
   "outputs": [
    {
     "name": "stdout",
     "output_type": "stream",
     "text": [
      "Does list contain all elements in range : False\n"
     ]
    }
   ],
   "source": [
    "l34 = [4, 5, 6, 7, 3, 9]\n",
    "\n",
    "r = range(1,5)\n",
    "result = True\n",
    "\n",
    "for i in l34:\n",
    "    if i in r:\n",
    "        continue\n",
    "    else:\n",
    "        result = False\n",
    "\n",
    "print(f\"Does list contain all elements in range : {result}\")"
   ]
  },
  {
   "cell_type": "markdown",
   "id": "0eb95094-7b4f-4001-a5c1-e6f295053766",
   "metadata": {},
   "source": [
    "**35. Write a Python program to check if the list contains three consecutive common\n",
    "numbers in Python**"
   ]
  },
  {
   "cell_type": "code",
   "execution_count": 179,
   "id": "3482d6cf-763c-45b9-b970-d620601b4924",
   "metadata": {},
   "outputs": [
    {
     "name": "stdout",
     "output_type": "stream",
     "text": [
      "Three Consecutive common numbers = [9, 18]\n"
     ]
    }
   ],
   "source": [
    "l35 = [18, 18, 18, 6, 3, 4, 9, 9, 9]\n",
    "l35.sort()\n",
    "l35ans = list(filter(lambda e: l35.count(e) == 3, set(l35)))\n",
    "print(f\"Three Consecutive common numbers = {l35ans}\")"
   ]
  },
  {
   "cell_type": "markdown",
   "id": "0b846d5a-138e-4fa8-b43e-24f845bc1293",
   "metadata": {},
   "source": [
    "**36. Write a Python program to find the Strongest Neighbour**"
   ]
  },
  {
   "cell_type": "code",
   "execution_count": 181,
   "id": "88e1dea5-29b9-416d-9ef7-dc49c57726ce",
   "metadata": {},
   "outputs": [
    {
     "name": "stdout",
     "output_type": "stream",
     "text": [
      "20 30 30 30 400 "
     ]
    }
   ],
   "source": [
    "l36 = [10,20,30,20,30,400]\n",
    "a2 = []\n",
    "for i in range(1, 6):\n",
    "    r = max(l36[i], l36[i-1])\n",
    "    a2.append(r)\n",
    "for i in a2 :\n",
    "    print(i,end=\" \")\n"
   ]
  },
  {
   "cell_type": "markdown",
   "id": "3ab6bb13-0424-4bea-80a1-d3516f81ca79",
   "metadata": {},
   "source": [
    "**37. Write a Python Program to print all Possible Combinations from the three Digits**"
   ]
  },
  {
   "cell_type": "code",
   "execution_count": 193,
   "id": "8ed939a0-608b-4d37-9629-53d20a63c637",
   "metadata": {},
   "outputs": [
    {
     "name": "stdout",
     "output_type": "stream",
     "text": [
      "1 2 3\n",
      "1 3 2\n",
      "2 1 3\n",
      "2 3 1\n",
      "3 1 2\n",
      "3 2 1\n"
     ]
    }
   ],
   "source": [
    "l37 = [1,2,3]\n",
    "\n",
    "for i in l37:\n",
    "    l = l37.copy()\n",
    "    l.remove(i)\n",
    "    l = l*2\n",
    "    for j in range(2):\n",
    "        print(i, l[j], l[j+1])"
   ]
  },
  {
   "cell_type": "markdown",
   "id": "3d59312f-5041-44c2-b392-f9079198c250",
   "metadata": {},
   "source": [
    "**38. Write a Python program to find all the Combinations in the list with the given condition**"
   ]
  },
  {
   "cell_type": "code",
   "execution_count": 194,
   "id": "65c41d0e-d23d-4696-96bf-49c99648fac4",
   "metadata": {},
   "outputs": [
    {
     "name": "stdout",
     "output_type": "stream",
     "text": [
      "Tutor Joes Software Solution\n",
      "Tutor Joes Software Education\n",
      "Tutor Joes Computer Solution\n",
      "Tutor Joes Computer Education\n"
     ]
    }
   ],
   "source": [
    "l38 = ['Tutor Joes', ['Software', 'Computer'], ['Solution', 'Education']]\n",
    "for a in l38[1]:\n",
    "    for b in l38[2]:\n",
    "        print(l38[0], a, b)"
   ]
  },
  {
   "cell_type": "markdown",
   "id": "5ed49d85-3905-418f-a16b-f186435c5902",
   "metadata": {},
   "source": [
    "**39. Write a Python program to get all unique combinations of two Lists**"
   ]
  },
  {
   "cell_type": "code",
   "execution_count": 198,
   "id": "0838b530-4bc1-486f-a673-33f1d50a4754",
   "metadata": {},
   "outputs": [
    {
     "name": "stdout",
     "output_type": "stream",
     "text": [
      "[[('A', 1), ('A', 2), ('A', 3)], [('B', 1), ('B', 2), ('B', 3)], [('C', 1), ('C', 2), ('C', 3)]]\n"
     ]
    }
   ],
   "source": [
    "l39a = ['A','B','C']\n",
    "l39b = [1,2,3]\n",
    "\n",
    "lol = []\n",
    "for a in l39a:\n",
    "    lst = []\n",
    "    for b in l39b:\n",
    "        list.append((a, b))\n",
    "    lol.append(lst)\n",
    "print(lol)"
   ]
  },
  {
   "cell_type": "markdown",
   "id": "5043e0a4-e386-4808-8ac4-50d43d7e2fe0",
   "metadata": {},
   "source": [
    "**40. Write a Python program to remove all the occurrences of an element from a list**"
   ]
  },
  {
   "cell_type": "code",
   "execution_count": 2,
   "id": "e2df4626-ba41-4cb8-881b-f604f42a7034",
   "metadata": {},
   "outputs": [
    {
     "data": {
      "text/plain": [
       "[3, 4, 6, 5]"
      ]
     },
     "execution_count": 2,
     "metadata": {},
     "output_type": "execute_result"
    }
   ],
   "source": [
    "l40 = [1, 3, 4, 6, 5, 1]\n",
    "list(filter(lambda e: l40.count(e) <= 1, l40))"
   ]
  },
  {
   "cell_type": "markdown",
   "id": "3b3e11da-75ec-4e73-a621-238033589497",
   "metadata": {},
   "source": [
    "**41. Write a Python Program to Remove Consecutive K element records**"
   ]
  },
  {
   "cell_type": "code",
   "execution_count": 15,
   "id": "acc1b6e0-c41c-49c7-ae7d-81c0725e7aff",
   "metadata": {},
   "outputs": [
    {
     "name": "stdout",
     "output_type": "stream",
     "text": [
      "Original List : [('A', 'B', 'C', 'D'), ('B', 'C', 'C', 'I'), ('H', 'D', 'B', 'C'), ('C', 'C', 'G', 'F')]\n",
      "After Removal :  [('A', 'B', 'C', 'D'), ('H', 'D', 'B', 'C')]\n"
     ]
    }
   ],
   "source": [
    "l41 = [ ('A', 'B', 'C', 'D'), ('B', 'C', 'C', 'I'), ('H', 'D', 'B', 'C'), ('C', 'C', 'G', 'F') ]\n",
    "print(\"Original List : \" + str(l41))\n",
    "K = 'C'\n",
    "res = []\n",
    "for i in l41:\n",
    "    t = any([i[j] == K and i[j+1] == K for j in range(len(i) - 1)])\n",
    "    if not t: res.append(i)\n",
    "print(\"After Removal : \" , res)"
   ]
  },
  {
   "cell_type": "markdown",
   "id": "2402e5b4-7d75-4a42-898d-7a28fd1c9da0",
   "metadata": {},
   "source": [
    "**42. Write a Python Program to Replace index elements with elements in Other List**"
   ]
  },
  {
   "cell_type": "code",
   "execution_count": 16,
   "id": "7753ced7-7ec5-4690-9a02-37361e6bcc2f",
   "metadata": {},
   "outputs": [
    {
     "name": "stdout",
     "output_type": "stream",
     "text": [
      "['Education', 'Computer', 'Tutor Joes', 'Computer', 'Tutor Joes', 'Education', 'Education', 'Tutor Joes', 'Computer', 'Tutor Joes', 'Computer', 'Education']\n"
     ]
    }
   ],
   "source": [
    "l42 = ['Tutor Joes', 'Computer', 'Education']\n",
    "i42 = [2, 1, 0, 1, 0, 2, 2, 0, 1, 0, 1, 2]\n",
    "res = []\n",
    "for i in i42:\n",
    "    res.append(l42[i])\n",
    "print(res)"
   ]
  },
  {
   "cell_type": "markdown",
   "id": "8ad63cf4-0592-4d14-815a-a11d789ce954",
   "metadata": {},
   "source": [
    "**43. Write a Python Program to Retain records with N occurrences of K**"
   ]
  },
  {
   "cell_type": "code",
   "execution_count": 26,
   "id": "7f328350-1a53-4455-b34b-fc76bbf1b246",
   "metadata": {},
   "outputs": [
    {
     "data": {
      "text/plain": [
       "[(4, 5, 6, 5, 4), (5, 5, 2)]"
      ]
     },
     "execution_count": 26,
     "metadata": {},
     "output_type": "execute_result"
    }
   ],
   "source": [
    "l43 = [ (4, 5, 6, 5, 4), (4, 5, 3), (5, 5, 2), (3, 4, 9) ]\n",
    "K = 5\n",
    "N = 2\n",
    "\n",
    "list(filter(lambda e: list(e).count(K) == N, l43))"
   ]
  },
  {
   "cell_type": "markdown",
   "id": "f09ceb0b-f518-482a-b7a0-3ca28938ae5b",
   "metadata": {},
   "source": [
    "**44. Write a Python Program to Swap elements in String list**"
   ]
  },
  {
   "cell_type": "code",
   "execution_count": 27,
   "id": "4e0f6af7-4878-43c3-8ac5-06eb39e044d5",
   "metadata": {},
   "outputs": [
    {
     "name": "stdout",
     "output_type": "stream",
     "text": [
      "Before Swap : ['Tutor', 'joes', 'Computer', 'Education']\n",
      "After Swap :  ['Tutor', \"Joe's\", 'Software', 'Solutions']\n"
     ]
    }
   ],
   "source": [
    "l44 = [\"Tutor\",\"joes\",\"Computer\",\"Education\"]\n",
    "print(\"Before Swap :\",l44)\n",
    "res = [sub.replace(\"joes\",\"Joe's\").replace(\"Computer\", \"Software\").replace(\"Education\", \"Solutions\") for sub in l44]\n",
    "print (\"After Swap : \",res)"
   ]
  },
  {
   "cell_type": "markdown",
   "id": "692c4e5a-821f-4393-9602-8d1719983e37",
   "metadata": {},
   "source": [
    "**45. Write a Python program to reverse All Strings in String List**"
   ]
  },
  {
   "cell_type": "code",
   "execution_count": 43,
   "id": "9ff41f50-2be7-4554-92ac-5d83de238b58",
   "metadata": {},
   "outputs": [
    {
     "data": {
      "text/plain": [
       "['rotuT', 'seoj', 'retupmoC', 'noitacudE']"
      ]
     },
     "execution_count": 43,
     "metadata": {},
     "output_type": "execute_result"
    }
   ],
   "source": [
    "l45 = ['Tutor', 'joes', 'Computer', 'Education']\n",
    "l45ans = []\n",
    "for i in l45:\n",
    "    l45ans.append(i[::-1])\n",
    "l45ans"
   ]
  },
  {
   "cell_type": "markdown",
   "id": "1d36bea7-4e96-4307-993d-a30650d57d94",
   "metadata": {},
   "source": [
    "**46. Write a Python program to find the character position of Kth word from a list of strings**"
   ]
  },
  {
   "cell_type": "code",
   "execution_count": 51,
   "id": "4d2ba289-cfc7-429b-9d0c-b9c9fce41d8d",
   "metadata": {},
   "outputs": [
    {
     "name": "stdout",
     "output_type": "stream",
     "text": [
      "Index of character at Kth position word: 3\n"
     ]
    }
   ],
   "source": [
    "l46 = ['Tutor', 'joes', 'Computer', 'Education']\n",
    "K = 20\n",
    "for l in l46:\n",
    "    K = K - len(l)\n",
    "    if K < 1:\n",
    "        print(f\"Index of character at Kth position word: {l46.index(l)}\")"
   ]
  },
  {
   "cell_type": "markdown",
   "id": "9e7e527e-1f3f-4c74-9159-d10774a09368",
   "metadata": {},
   "source": [
    "**47. Write a Python Program to Prefix frequency in string List**"
   ]
  },
  {
   "cell_type": "code",
   "execution_count": 52,
   "id": "6e1c794d-2357-4e40-a0d3-dc98c70384f3",
   "metadata": {},
   "outputs": [
    {
     "name": "stdout",
     "output_type": "stream",
     "text": [
      "Strings count with matching frequency : 3\n"
     ]
    }
   ],
   "source": [
    "l47 = ['TjC', 'TjCpp', 'TjPython', 'Java']\n",
    "Prefix = 'Tj'\n",
    "sum = 0\n",
    "for l in l47:\n",
    "    if Prefix in l:\n",
    "        sum += 1\n",
    "print(f\"Strings count with matching frequency : {sum}\")"
   ]
  },
  {
   "cell_type": "markdown",
   "id": "c1048e46-51a6-46be-8240-db0e52846f6d",
   "metadata": {},
   "source": [
    "**48. Write a Python Program to Split Strings on Prefix Occurrence**"
   ]
  },
  {
   "cell_type": "code",
   "execution_count": 54,
   "id": "f994bd47-62cf-4437-9717-fa371b2cc3ba",
   "metadata": {},
   "outputs": [
    {
     "name": "stdout",
     "output_type": "stream",
     "text": [
      "Prefix Split List : [['TjC'], ['TjCpp'], ['TjPython', 'Java', 'tj']]\n"
     ]
    }
   ],
   "source": [
    "l48 = ['TjC', 'TjCpp', 'TjPython', 'Java', 'tj']\n",
    "Prefix = 'Tj'\n",
    "\n",
    "res = []\n",
    "for val in l48:\n",
    "\tif val.startswith(Prefix):\n",
    "\t\tres.append([val])\n",
    "\telse:\n",
    "\t\tres[-1].append(val)\n",
    "print(\"Prefix Split List : \" + str(res))"
   ]
  },
  {
   "cell_type": "markdown",
   "id": "ad286ccd-3517-4be5-990c-0b112b2fbca5",
   "metadata": {},
   "source": [
    "**49. Write a Python program to Replace all Characters of a List Except the given character**"
   ]
  },
  {
   "cell_type": "code",
   "execution_count": 56,
   "id": "0977b0da-2b78-4644-b553-4e50c93a58f2",
   "metadata": {},
   "outputs": [
    {
     "data": {
      "text/plain": [
       "['@', '@', 'T', '@', '@', '@']"
      ]
     },
     "execution_count": 56,
     "metadata": {},
     "output_type": "execute_result"
    }
   ],
   "source": [
    "l49 = ['P', 'Y', 'T', 'H', 'O', 'N']\n",
    "K = 'T'\n",
    "l49ans = [i if i == K else '@' for i in l49]\n",
    "l49ans"
   ]
  },
  {
   "cell_type": "markdown",
   "id": "d7ad8115-415c-4fc0-a0a9-3629172d96ed",
   "metadata": {},
   "source": [
    "**50. Write a Python Program to Add Space between Potential Words**"
   ]
  },
  {
   "cell_type": "code",
   "execution_count": 58,
   "id": "0381a548-f0d9-4f31-b213-f59a675cd1c8",
   "metadata": {},
   "outputs": [
    {
     "name": "stdout",
     "output_type": "stream",
     "text": [
      "The space added list of strings :  [' Tutor Joes', ' Computer Educations']\n"
     ]
    }
   ],
   "source": [
    "l50 = ['TutorJoes', 'ComputerEducations']\n",
    "\n",
    "res = []\n",
    "for l in l50:\n",
    "\tt = [[]]\n",
    "\tfor ch in l:\n",
    "\t\tif ch.isupper():\n",
    "\t\t\tt.append([])\n",
    "\t\tt[-1].append(ch)\n",
    "\tres.append(' '.join(''.join(i) for i in t))\n",
    " \n",
    "print(\"The space added list of strings : \" , res)"
   ]
  },
  {
   "cell_type": "code",
   "execution_count": null,
   "id": "ebe52764-f46e-4f48-a1f8-e18f599f9824",
   "metadata": {},
   "outputs": [],
   "source": []
  }
 ],
 "metadata": {
  "kernelspec": {
   "display_name": "Python 3 (ipykernel)",
   "language": "python",
   "name": "python3"
  },
  "language_info": {
   "codemirror_mode": {
    "name": "ipython",
    "version": 3
   },
   "file_extension": ".py",
   "mimetype": "text/x-python",
   "name": "python",
   "nbconvert_exporter": "python",
   "pygments_lexer": "ipython3",
   "version": "3.10.10"
  }
 },
 "nbformat": 4,
 "nbformat_minor": 5
}
