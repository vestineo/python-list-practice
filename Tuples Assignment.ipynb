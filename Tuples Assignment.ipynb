{
 "cells": [
  {
   "cell_type": "markdown",
   "id": "e98f5b86-c2bc-4b9e-b11a-eb3df066af83",
   "metadata": {},
   "source": [
    "**1. Write a Python program to create a tuple**"
   ]
  },
  {
   "cell_type": "code",
   "execution_count": 1,
   "id": "b0d393d1-c0ae-4062-8d73-85dba2e288f2",
   "metadata": {},
   "outputs": [],
   "source": [
    "Tuple = (5,6)"
   ]
  },
  {
   "cell_type": "markdown",
   "id": "f4f5e245-16bd-43b4-b080-fe27f66b5779",
   "metadata": {},
   "source": [
    "**2. Write a Python program to create a tuple with different data types**"
   ]
  },
  {
   "cell_type": "code",
   "execution_count": 2,
   "id": "5317cfad-902f-451e-8f53-e3930a90d65a",
   "metadata": {},
   "outputs": [],
   "source": [
    "tuple_different_types = (5, 't', 6.7, {5,8}, ['hello', 'timi'])"
   ]
  },
  {
   "cell_type": "markdown",
   "id": "c64a5446-e499-487f-bc64-908caae89c5c",
   "metadata": {},
   "source": [
    "**3. Write a Python program to create a tuple with numbers and print one item**"
   ]
  },
  {
   "cell_type": "code",
   "execution_count": 3,
   "id": "b8281fe3-71cb-4141-9521-53a13787ffce",
   "metadata": {},
   "outputs": [
    {
     "name": "stdout",
     "output_type": "stream",
     "text": [
      "5\n"
     ]
    }
   ],
   "source": [
    "tup = (5,6,7,8,9)\n",
    "print(tup[0])"
   ]
  },
  {
   "cell_type": "markdown",
   "id": "e21439ab-bc75-4269-8ebf-2dbbcfe3e7fb",
   "metadata": {},
   "source": [
    "**4. Write a Python program to unpack a tuple in several variables**"
   ]
  },
  {
   "cell_type": "code",
   "execution_count": 4,
   "id": "ccb82828-857a-4587-b3a7-c4d29cea4c72",
   "metadata": {},
   "outputs": [],
   "source": [
    "a, b, c = (3,5,'c')"
   ]
  },
  {
   "cell_type": "markdown",
   "id": "3e79cb86-2619-46a4-8405-c5e68d4ad89e",
   "metadata": {},
   "source": [
    "**5. Write a Python program to add an item in a tuple**"
   ]
  },
  {
   "cell_type": "code",
   "execution_count": 19,
   "id": "bc8718ed-05ed-4903-abb4-50b81a0a2b73",
   "metadata": {},
   "outputs": [],
   "source": [
    "tup = ('a','c','d')\n",
    "tup = tup + ('b',)"
   ]
  },
  {
   "cell_type": "markdown",
   "id": "cb546549-44d5-4f2c-bb1f-bad62e03ed9c",
   "metadata": {},
   "source": [
    "**6. Write a Python program to convert a tuple to a string**"
   ]
  },
  {
   "cell_type": "code",
   "execution_count": 22,
   "id": "a6bbac6a-8e4d-46ea-b91d-5272c74ec9e8",
   "metadata": {},
   "outputs": [
    {
     "data": {
      "text/plain": [
       "'hello'"
      ]
     },
     "execution_count": 22,
     "metadata": {},
     "output_type": "execute_result"
    }
   ],
   "source": [
    "tup = ('h','e', 'l', 'l','o')\n",
    "\"\".join(tup)"
   ]
  },
  {
   "cell_type": "markdown",
   "id": "bce47588-9385-49e3-b661-056ad17452c9",
   "metadata": {},
   "source": [
    "**7. Write a Python program to get the 4th element and 4th element from last of a tuple**"
   ]
  },
  {
   "cell_type": "code",
   "execution_count": 23,
   "id": "7c62d78f-b61a-4570-98c6-8d04392a0d15",
   "metadata": {},
   "outputs": [
    {
     "name": "stdout",
     "output_type": "stream",
     "text": [
      "4th element 7\n",
      "4th element from last 6\n"
     ]
    }
   ],
   "source": [
    "t = (1,5,3,6,7,34,65)\n",
    "print(f\"4th element {t[4]}\")\n",
    "print(f\"4th element from last {t[-4]}\")"
   ]
  },
  {
   "cell_type": "markdown",
   "id": "661cf66c-14e3-4467-9317-32174cda307f",
   "metadata": {},
   "source": [
    "**8. Write a Python program to create the colon of a tuple**"
   ]
  },
  {
   "cell_type": "code",
   "execution_count": 28,
   "id": "56eefa12-246c-489f-b5b0-dc64af634864",
   "metadata": {},
   "outputs": [
    {
     "name": "stdout",
     "output_type": "stream",
     "text": [
      "Original ('Tutor', 'J', 23, 56.67, [23, 12], True)\n",
      "Copy ('Tutor', 'J', 23, 56.67, [23, 12], True)\n"
     ]
    }
   ],
   "source": [
    "from copy import deepcopy\n",
    "t8 = (\"Tutor\", 'J', 23 , 56.67 , [23,12] , True)\n",
    "t8copy = deepcopy(t8)\n",
    "print(f\"Original {t8}\")\n",
    "print(f\"Copy {t8copy}\")"
   ]
  },
  {
   "cell_type": "markdown",
   "id": "be26ff34-29be-4a5a-9b66-039a64f13527",
   "metadata": {},
   "source": [
    "**9. Write a Python program to find the repeated items of a tuple**"
   ]
  },
  {
   "cell_type": "code",
   "execution_count": 30,
   "id": "c81c5c2d-89b5-43d9-a228-0e04adfb4ef8",
   "metadata": {},
   "outputs": [
    {
     "name": "stdout",
     "output_type": "stream",
     "text": [
      "repeated number of times: 3\n"
     ]
    }
   ],
   "source": [
    "t9 = (2, 34, 45, 6, 7, 2, 4, 5, 78, 34, 2)\n",
    "item = 2\n",
    "print(f\"repeated number of times: {t9.count(item)}\")"
   ]
  },
  {
   "cell_type": "markdown",
   "id": "616023ac-8949-41db-9161-051ee811cd81",
   "metadata": {},
   "source": [
    "**10. Write a Python program to check whether an element exists within a tuple**"
   ]
  },
  {
   "cell_type": "code",
   "execution_count": 35,
   "id": "20068c82-26dd-4276-8a82-ccf700635984",
   "metadata": {},
   "outputs": [
    {
     "name": "stdout",
     "output_type": "stream",
     "text": [
      "8 in Tupel = True\n",
      "'x' in Tupel = False\n"
     ]
    }
   ],
   "source": [
    "t10 = ('T', 'u', 't', 'o', 'r', ' ', 'J', 'o', 'e', 's',8)\n",
    "print(f\"8 in Tupel = {8 in t10}\")\n",
    "print(f\"'x' in Tupel = {'x' in t10}\")"
   ]
  },
  {
   "cell_type": "markdown",
   "id": "9320e03e-5b8e-4f99-ad35-49819faed5af",
   "metadata": {},
   "source": [
    "**11. Write a Python program to convert a list to a tuple**"
   ]
  },
  {
   "cell_type": "code",
   "execution_count": 37,
   "id": "854eba3c-782f-43ce-bc25-b907f37c5055",
   "metadata": {},
   "outputs": [
    {
     "name": "stdout",
     "output_type": "stream",
     "text": [
      "('w', 5, 'get')\n"
     ]
    }
   ],
   "source": [
    "l11 = ['w', 5, 'get']\n",
    "t11 = tuple(l11)\n",
    "print(t11)"
   ]
  },
  {
   "cell_type": "markdown",
   "id": "0db7f5d3-30c4-4067-ac35-cf2e6e2f3475",
   "metadata": {},
   "source": [
    "**12. Write a Python program to remove an item from a tuple**"
   ]
  },
  {
   "cell_type": "code",
   "execution_count": 46,
   "id": "0175add9-e5bd-4770-b266-2758dc96e48f",
   "metadata": {},
   "outputs": [
    {
     "name": "stdout",
     "output_type": "stream",
     "text": [
      "(23, 45, 68, 10, 45, 7, 9)\n"
     ]
    }
   ],
   "source": [
    "t12 = (23, 45, 56, 68, 10, 45, 7, 9)\n",
    "item = 56\n",
    "lst = list(t12)\n",
    "lst.remove(item)\n",
    "t12ans = tuple(lst)\n",
    "print(t12ans)"
   ]
  },
  {
   "cell_type": "markdown",
   "id": "c7191d64-2094-46d9-be37-2ab4806776f9",
   "metadata": {},
   "source": [
    "**13. Write a Python program to slice a tuple**"
   ]
  },
  {
   "cell_type": "code",
   "execution_count": 61,
   "id": "e02ef52a-620c-4ed3-94e9-b61b17e366bb",
   "metadata": {},
   "outputs": [
    {
     "name": "stdout",
     "output_type": "stream",
     "text": [
      "(40, 50, 60, 70, 80)\n"
     ]
    }
   ],
   "source": [
    "t13 = (10, 20, 30, 40, 50, 60, 70, 80, 90, 100)\n",
    "t13ans = tuple(list(t13)[3:8])\n",
    "print(t13ans)"
   ]
  },
  {
   "cell_type": "markdown",
   "id": "b0a76155-16b4-40bc-beaf-1ac6bc9a854f",
   "metadata": {},
   "source": [
    "**14. Write a Python program to find the index of an item of a tuple**"
   ]
  },
  {
   "cell_type": "code",
   "execution_count": 62,
   "id": "4c73c8c4-12cd-40e9-b8fb-8d289f92a2c4",
   "metadata": {},
   "outputs": [
    {
     "name": "stdout",
     "output_type": "stream",
     "text": [
      "Index Number : 3\n"
     ]
    }
   ],
   "source": [
    "t14 = (23, 45, 67, 78, 89, 90, 34, 56)\n",
    "Item = 78\n",
    "print(f\"Index Number : {t14.index(Item)}\")\n"
   ]
  },
  {
   "cell_type": "markdown",
   "id": "87d64b82-0a6b-41f7-b6c9-c9d8e5f47f12",
   "metadata": {},
   "source": [
    "**15. Write a Python program to find the length of a tuple**"
   ]
  },
  {
   "cell_type": "code",
   "execution_count": 63,
   "id": "ed08e4b0-c052-459b-9dcc-d695ace85e6d",
   "metadata": {},
   "outputs": [
    {
     "name": "stdout",
     "output_type": "stream",
     "text": [
      "Length : 6\n"
     ]
    }
   ],
   "source": [
    "t15 = (\"Lion\", \"Cat\", \"Dog\", \"Panda\", \"Tiger\", \"Fox\")\n",
    "print(f\"Length : {len(t15)}\")"
   ]
  },
  {
   "cell_type": "markdown",
   "id": "a7846022-3646-4a7b-b2ac-3630835b3729",
   "metadata": {},
   "source": [
    "**16. Write a Python program to convert a tuple to a dictionary**"
   ]
  },
  {
   "cell_type": "code",
   "execution_count": 64,
   "id": "0c173295-e104-4a52-84e0-cb9b1e8dcd1b",
   "metadata": {},
   "outputs": [
    {
     "name": "stdout",
     "output_type": "stream",
     "text": [
      "{'Name': 'Ram', 'Age': 23, 'City': 'Salem', 'Mark': 422}\n"
     ]
    }
   ],
   "source": [
    "t16 = ( (\"Name\", \"Ram\"), (\"Age\", 23), (\"City\", \"Salem\"), (\"Mark\", 422) )\n",
    "d16 = dict(t16)\n",
    "print(d16)"
   ]
  },
  {
   "cell_type": "markdown",
   "id": "4f43e3d4-16a0-4e1d-b55d-4d7d9034fb51",
   "metadata": {},
   "source": [
    "**17. Write a Python program to unzip a list of tuples into individual lists**"
   ]
  },
  {
   "cell_type": "code",
   "execution_count": 71,
   "id": "5fa23414-cad9-40b4-9b9b-0a16683527a0",
   "metadata": {},
   "outputs": [
    {
     "name": "stdout",
     "output_type": "stream",
     "text": [
      "((10, 60, 20), (30, 90, 50))\n"
     ]
    }
   ],
   "source": [
    "l17 = [ (10,30), (60,90), (20,50) ]\n",
    "t17 = tuple(zip(l17[0], l17[1], l17[2]))\n",
    "print(t17)"
   ]
  },
  {
   "cell_type": "markdown",
   "id": "9ad1d78e-61a8-44b1-bf6d-12cb8002b47b",
   "metadata": {},
   "source": [
    "**18. Write a Python program to reverse a tuple**"
   ]
  },
  {
   "cell_type": "code",
   "execution_count": 75,
   "id": "a67d59c4-de5a-4280-8dfc-dd1b63b624ad",
   "metadata": {},
   "outputs": [
    {
     "name": "stdout",
     "output_type": "stream",
     "text": [
      "(23, 45, 67, 78, 89, 90, 34, 56)\n",
      "(56, 34, 90, 89, 78, 67, 45, 23)\n"
     ]
    }
   ],
   "source": [
    "t18 =  ( 23, 45, 67, 78, 89, 90, 34, 56 )\n",
    "l18 = list(t18)\n",
    "l18.reverse()\n",
    "t18ans = tuple(l18)\n",
    "print(t18)\n",
    "print(t18ans)"
   ]
  },
  {
   "cell_type": "markdown",
   "id": "cac95ded-547c-4ca9-83fd-b6bf9a5d50f1",
   "metadata": {},
   "source": [
    "**19. Write a Python program to convert a list of tuples into a dictionary**"
   ]
  },
  {
   "cell_type": "code",
   "execution_count": 76,
   "id": "3a6d800c-d35b-47e5-a677-54d12a13cf09",
   "metadata": {},
   "outputs": [
    {
     "name": "stdout",
     "output_type": "stream",
     "text": [
      "{'Name': 'Pooja', 'Age': 23, 'Gender': 'Female'}\n"
     ]
    }
   ],
   "source": [
    "l19 = [ (\"Name\", \"Ram\"), (\"Name\", \"Pooja\"), (\"Age\", 21), (\"Gender\", \"Male\"), (\"Age\", 23), (\"Gender\", \n",
    "\"Female\") ]\n",
    "d19 = dict(l19)\n",
    "print(d19)"
   ]
  },
  {
   "cell_type": "markdown",
   "id": "955cfcbf-a745-4f7e-85b0-81f7fb6abeb2",
   "metadata": {},
   "source": [
    "**20. Write a Python program to print a tuple with string formatting**"
   ]
  },
  {
   "cell_type": "code",
   "execution_count": 79,
   "id": "72f2624c-f022-49da-88e1-c994532de9fb",
   "metadata": {},
   "outputs": [
    {
     "name": "stdout",
     "output_type": "stream",
     "text": [
      "('watermelons', 'strawberries', 'mangoes', 'bananas', 'grapefruits', 'oranges', 'apples', 'pears')\n"
     ]
    }
   ],
   "source": [
    "t20 = (\"watermelons\", \"strawberries\", \"mangoes\", \"bananas\", \"grapefruits\", \"oranges\", \"apples\", \n",
    "\"pears\")\n",
    "print(str(t20))"
   ]
  },
  {
   "cell_type": "markdown",
   "id": "94485bc4-69a4-4b24-978e-22cc28bef6ea",
   "metadata": {},
   "source": [
    "**21. Create a tuple with single item 23**"
   ]
  },
  {
   "cell_type": "code",
   "execution_count": 82,
   "id": "a1e25a23-2abf-4ffe-97f3-92d1e311ad1b",
   "metadata": {},
   "outputs": [
    {
     "name": "stdout",
     "output_type": "stream",
     "text": [
      "<class 'tuple'>\n",
      "(23,)\n"
     ]
    }
   ],
   "source": [
    "t21 = (23,)\n",
    "print(type(t21))\n",
    "print(t21)"
   ]
  },
  {
   "cell_type": "markdown",
   "id": "f6b727f6-5767-402b-9900-00699636a2d4",
   "metadata": {},
   "source": [
    "**22. Unpack the tuple into 5 variables**"
   ]
  },
  {
   "cell_type": "code",
   "execution_count": 87,
   "id": "399e6b75-b212-44a2-9d48-4adce9a8a207",
   "metadata": {},
   "outputs": [
    {
     "name": "stdout",
     "output_type": "stream",
     "text": [
      "11\n",
      "22\n",
      "333\n",
      "44\n",
      "55\n"
     ]
    }
   ],
   "source": [
    "t22 = (11, 22, 333, 44, 55)\n",
    "a, b, c, d, e = t22\n",
    "print(a)\n",
    "print(b)\n",
    "print(c)\n",
    "print(d)\n",
    "print(e)"
   ]
  },
  {
   "cell_type": "markdown",
   "id": "07f82a7d-f407-4d03-934b-11110d8a0b3a",
   "metadata": {},
   "source": [
    "**23. Swap two tuples in Python**"
   ]
  },
  {
   "cell_type": "code",
   "execution_count": 89,
   "id": "19918708-7b09-4edc-bb99-6b7edf11afb3",
   "metadata": {},
   "outputs": [
    {
     "name": "stdout",
     "output_type": "stream",
     "text": [
      "Original tuple (10, 20)\n",
      "Swapped tuple (20, 10)\n"
     ]
    }
   ],
   "source": [
    "t23a = (10, 20)\n",
    "a, b = t23a\n",
    "t23ans = (b,a)\n",
    "print(f\"Original tuple {t23a}\")\n",
    "print(f\"Swapped tuple {t23ans}\")"
   ]
  },
  {
   "cell_type": "markdown",
   "id": "77205e85-bab9-4633-bb00-ca47b2787f66",
   "metadata": {},
   "source": [
    "**24. Copy specific elements from one tuple to a new tuple**"
   ]
  },
  {
   "cell_type": "code",
   "execution_count": 91,
   "id": "b1f3e5fb-a16b-4f62-9606-21d0e5123ba0",
   "metadata": {},
   "outputs": [
    {
     "name": "stdout",
     "output_type": "stream",
     "text": [
      "(30, 40, 50, 60, 70, 80)\n"
     ]
    }
   ],
   "source": [
    "t24 = (10,20,30,40,50,60,70,80,90,100)\n",
    "t24ans = t24[2:8]\n",
    "print(t24ans)"
   ]
  },
  {
   "cell_type": "markdown",
   "id": "bce446d1-42a3-4aae-8fb7-4730e3eeed61",
   "metadata": {},
   "source": [
    "**25. Modify the tuple**"
   ]
  },
  {
   "cell_type": "code",
   "execution_count": 93,
   "id": "bc017808-ae80-4ca6-afea-5d1ce63c54a4",
   "metadata": {},
   "outputs": [
    {
     "name": "stdout",
     "output_type": "stream",
     "text": [
      "(10, 20, 33, 40, 50)\n"
     ]
    }
   ],
   "source": [
    "t25 = ( 10, 20, 30, 40, 50)\n",
    "l25 = list(t25)\n",
    "l25[2] = 33\n",
    "t25ans = tuple(l25)\n",
    "print(t25ans)"
   ]
  },
  {
   "cell_type": "markdown",
   "id": "5c4975d9-886a-49be-8aaf-54a60133352c",
   "metadata": {},
   "source": [
    "**26. Sort a tuple of tuples by 2nd item**"
   ]
  },
  {
   "cell_type": "code",
   "execution_count": 99,
   "id": "d47a4fb3-9010-4752-86a7-3e3795156226",
   "metadata": {},
   "outputs": [
    {
     "name": "stdout",
     "output_type": "stream",
     "text": [
      "(('d', 1), ('e', 18), ('c', 23), ('b', 37), ('a', 53))\n"
     ]
    }
   ],
   "source": [
    "t26 = ( ('a', 53), ('b', 37), ('c', 23), ('d', 1), ('e', 18) )\n",
    "t26ans = tuple(sorted(t26, key=lambda x: (x[1])))\n",
    "print(t26ans)"
   ]
  },
  {
   "cell_type": "markdown",
   "id": "02e753d8-f593-448c-87e9-52c7801d4003",
   "metadata": {},
   "source": [
    "**27. Counts the number of occurrences of item 30 from a tuple**"
   ]
  },
  {
   "cell_type": "code",
   "execution_count": 101,
   "id": "f925d469-5f66-43c6-9a16-a9ce61c814a3",
   "metadata": {},
   "outputs": [
    {
     "name": "stdout",
     "output_type": "stream",
     "text": [
      "Number of 30 in tuple is: 3\n"
     ]
    }
   ],
   "source": [
    "t27 = (30, 50, 10, 30, 70, 50, 30)\n",
    "print(f\"Number of 30 in tuple is: {t27.count(30)}\")"
   ]
  },
  {
   "cell_type": "markdown",
   "id": "d790f2c1-d782-43e1-8626-cd7933c47f4a",
   "metadata": {},
   "source": [
    "**28. Write a Python program to compute element-wise sum of given tuples**"
   ]
  },
  {
   "cell_type": "code",
   "execution_count": 105,
   "id": "0fc64ecf-50d3-485c-a5fb-ff12e9a91400",
   "metadata": {},
   "outputs": [
    {
     "name": "stdout",
     "output_type": "stream",
     "text": [
      "sum of elements : (12, 21, 18)\n"
     ]
    }
   ],
   "source": [
    "A = (2, 5, 8)\n",
    "B = (6, 5, 1)\n",
    "C = (1, 4, 7)\n",
    "D = (3, 7, 2)\n",
    "l28 = [A[i] + B[i] + C[i] + D[i] for i in range(len(A))]\n",
    "print(f\"sum of elements : {tuple(l28)}\")"
   ]
  },
  {
   "cell_type": "markdown",
   "id": "d7e095bc-855b-4beb-badd-56a509194916",
   "metadata": {},
   "source": [
    "**29. Write a Python program to sort a tuple by its float element**"
   ]
  },
  {
   "cell_type": "code",
   "execution_count": 108,
   "id": "6a780ef0-7c42-487f-9750-25e6a87f9744",
   "metadata": {},
   "outputs": [
    {
     "name": "stdout",
     "output_type": "stream",
     "text": [
      "(('Jeeva', '91.40'), ('Ram', '89.20'), ('Pooja', '84.40'), ('Siva', '76.45'), ('Tara', '68.43'))\n"
     ]
    }
   ],
   "source": [
    "t29 = [ ('Ram', '89.20'), ('Siva', '76.45'), ('Pooja', '84.40'), ('Tara', '68.43'), ('Jeeva', '91.40') ]\n",
    "t29ans = tuple(sorted(t29, key=lambda x: x[1], reverse=True))\n",
    "print(t29ans)"
   ]
  },
  {
   "cell_type": "markdown",
   "id": "fedac47c-589d-499f-8bba-4891e3176fa5",
   "metadata": {},
   "source": [
    "**30. Write a Python program to replace last value of tuples in a list**"
   ]
  },
  {
   "cell_type": "code",
   "execution_count": 110,
   "id": "3d16770a-fa41-4224-9f70-17fcb10cb563",
   "metadata": {},
   "outputs": [
    {
     "name": "stdout",
     "output_type": "stream",
     "text": [
      "Before replace\n",
      "[(5, 2, 3), (4, 7, 6), (8, 9, 6)]\n",
      "After replace\n",
      "[(5, 2, 10), (4, 7, 10), (8, 9, 10)]\n"
     ]
    }
   ],
   "source": [
    "l30 = [(5, 2, 3), (4, 7, 6), (8, 9, 6)]\n",
    "val = 10\n",
    "l30ans = []\n",
    "for t in l30:\n",
    "    lst = list(t)\n",
    "    lst[-1] = val\n",
    "    l30ans.append(tuple(lst))\n",
    "print(\"Before replace\")\n",
    "print(l30)\n",
    "print(\"After replace\")\n",
    "print(l30ans)"
   ]
  },
  {
   "cell_type": "markdown",
   "id": "c8103a89-dd28-4653-bb46-edcd8a50566b",
   "metadata": {},
   "source": [
    "**31. Write a Python program to Extract tuples having K digit elements**"
   ]
  },
  {
   "cell_type": "code",
   "execution_count": 14,
   "id": "3bea002e-e43b-403d-98a0-e2354579a863",
   "metadata": {},
   "outputs": [
    {
     "name": "stdout",
     "output_type": "stream",
     "text": [
      "[(47, 23), (22, 53)]\n"
     ]
    }
   ],
   "source": [
    "l31 = [ (47, 23), (3, 78), (22, 53), (121, 45), (7,) ]\n",
    "K = 2\n",
    "lst = []\n",
    "for l in l31:\n",
    "    if all([len(str(c)) == K for c in l]):\n",
    "        lst.append(l)\n",
    "print(lst)"
   ]
  },
  {
   "cell_type": "markdown",
   "id": "77e0d2cb-ca4b-4d50-b240-f20640b1e38e",
   "metadata": {},
   "source": [
    "**32. Write a Python program to Extract Symmetric Tuples**"
   ]
  },
  {
   "cell_type": "code",
   "execution_count": 26,
   "id": "294d125f-70f1-4141-835a-555e96c3cc96",
   "metadata": {},
   "outputs": [
    {
     "name": "stdout",
     "output_type": "stream",
     "text": [
      "{(2, 9), (18, 23)}\n"
     ]
    }
   ],
   "source": [
    "l32 = [ (18, 23), (2, 9), (7, 6), (9, 2), (10, 2), (23, 18) ]\n",
    "s32 = {(b, a) for a, b in l32}\n",
    "s32 = set(l32) & s32 \n",
    "s32ans = {(a, b) for a, b in s32 if a < b}\n",
    "print(s32ans)"
   ]
  },
  {
   "cell_type": "markdown",
   "id": "ac868f1e-1f77-4543-8a38-ea66597ef893",
   "metadata": {},
   "source": [
    "**33. Write a Python program to Sort Tuples by their Maximum element**"
   ]
  },
  {
   "cell_type": "code",
   "execution_count": 31,
   "id": "345079f9-bc85-4172-9d8f-e00db6b384c4",
   "metadata": {},
   "outputs": [
    {
     "data": {
      "text/plain": [
       "[(19, 4, 5, 3), (4, 5, 5, 7), (1, 3, 7, 4), (1, 2)]"
      ]
     },
     "execution_count": 31,
     "metadata": {},
     "output_type": "execute_result"
    }
   ],
   "source": [
    "t33 = [ (4, 5, 5, 7), (1, 3, 7, 4), (19, 4, 5, 3), (1, 2) ]\n",
    "list(sorted(t33, key=lambda x: max(x), reverse=True))"
   ]
  },
  {
   "cell_type": "markdown",
   "id": "133b5822-03a1-4bc5-8f8a-5d6ae2b5adbc",
   "metadata": {},
   "source": [
    "**34. Write a Python program to Remove nested records from tuple**"
   ]
  },
  {
   "cell_type": "code",
   "execution_count": 35,
   "id": "71116164-b9ae-4142-acc1-f3efb3084a73",
   "metadata": {},
   "outputs": [
    {
     "name": "stdout",
     "output_type": "stream",
     "text": [
      "Removed nested tuple: (10, 20, 40, 70)\n"
     ]
    }
   ],
   "source": [
    "t34 = (10, 20, (30,), 40, (50, 60), 70)\n",
    "t34ans = tuple(filter(lambda e: type(e) != tuple, t34))\n",
    "print(f\"Removed nested tuple: {t34ans}\")"
   ]
  },
  {
   "cell_type": "markdown",
   "id": "5e36dcfd-f5af-4531-aad8-9a574963edef",
   "metadata": {},
   "source": [
    "**35. Write a Python program to Elements Frequency in Mixed Nested Tuple**"
   ]
  },
  {
   "cell_type": "code",
   "execution_count": 57,
   "id": "291e12f9-72b2-441c-bb96-1c1ee8b66c31",
   "metadata": {},
   "outputs": [
    {
     "name": "stdout",
     "output_type": "stream",
     "text": [
      "frequency of elements : {10: 2, 20: 2, 30: 1, 40: 1, 50: 1, 60: 2, 70: 1}\n"
     ]
    }
   ],
   "source": [
    "t35 = (10, 20, (20, 10), 30, (40, 50, 60), 60, 70)\n",
    "\n",
    "lst = []\n",
    "for t in t35:\n",
    "    if type(t) == tuple:\n",
    "        lst.extend(t)\n",
    "    else:\n",
    "        lst.append(t)\n",
    "\n",
    "d35 = dict()\n",
    "for l in lst:\n",
    "    if l in d35:\n",
    "        d35[l] += 1\n",
    "    else:\n",
    "        d35[l] = 1\n",
    "print(\"frequency of elements :\", d35)"
   ]
  },
  {
   "cell_type": "markdown",
   "id": "94da330b-6d5b-4c31-9b6e-6a5137533851",
   "metadata": {},
   "source": [
    "**36. Write a Python program to get unique elements in nested tuple**"
   ]
  },
  {
   "cell_type": "code",
   "execution_count": 59,
   "id": "59ef1563-df1d-4857-af97-f2f653d927ab",
   "metadata": {},
   "outputs": [
    {
     "name": "stdout",
     "output_type": "stream",
     "text": [
      "Unique elements in the list : [1, 2, 3, 4, 5, 6, 7, 9, 10]\n"
     ]
    }
   ],
   "source": [
    "t36 = [ (1, 3, 5), (4, 5, 7), (1, 2, 6), (10, 9), (10,) ]\n",
    "lst = []\n",
    "for t in t36:\n",
    "    if type(t) == tuple:\n",
    "        lst.extend(t)\n",
    "    else:\n",
    "        lst.append(t)\n",
    "print(\"Unique elements in the list :\", list(set(lst)))"
   ]
  },
  {
   "cell_type": "markdown",
   "id": "9a7c1c89-cd97-4641-9fa6-6bfed150eefe",
   "metadata": {},
   "source": [
    "**37. Write a Python program to Concatenate tuples to nested tuples**"
   ]
  },
  {
   "cell_type": "code",
   "execution_count": 66,
   "id": "d54ffc90-39bc-426a-8ea3-4c8e5beba505",
   "metadata": {},
   "outputs": [
    {
     "name": "stdout",
     "output_type": "stream",
     "text": [
      "Tuples after concatensationg : ((18, 23, 2, 9), (10, 3, 11))\n"
     ]
    }
   ],
   "source": [
    "t37a = ((18, 23, 2, 9),)\n",
    "t37b = ((10, 3, 11),)\n",
    "t37ans = (*t37a, *t37b)\n",
    "print(\"Tuples after concatensationg :\", t37ans)"
   ]
  },
  {
   "cell_type": "markdown",
   "id": "b488d631-aaac-4bb7-9d20-3190608c90c8",
   "metadata": {},
   "source": [
    "**38. Write a Python program to Sort by Frequency of second element in Tuple List**"
   ]
  },
  {
   "cell_type": "code",
   "execution_count": 72,
   "id": "3bab6ba0-fae1-4416-b41b-931cfad98e41",
   "metadata": {},
   "outputs": [
    {
     "name": "stdout",
     "output_type": "stream",
     "text": [
      "Sorted by the second element frequency : [(2, 7), (3, 7), (8, 7), (2, 5), (6, 5), (9, 8)]\n"
     ]
    }
   ],
   "source": [
    "t38 = [ (2, 7), (3, 7), (2, 5), (8, 7), (6, 5), (9, 8) ]\n",
    "lst = []\n",
    "for t in t38:\n",
    "    if type(t) == tuple:\n",
    "        lst.extend(t)\n",
    "    else:\n",
    "        lst.append(t)\n",
    "l38 = list(sorted(t38, key=lambda x: lst.count(x[1]), reverse=True))\n",
    "print(\"Sorted by the second element frequency :\", l38)"
   ]
  },
  {
   "cell_type": "markdown",
   "id": "56296746-ab3c-4208-9f07-cfba677b9042",
   "metadata": {},
   "source": [
    "**39. Write a Python program to Sort lists in tuple**"
   ]
  },
  {
   "cell_type": "code",
   "execution_count": 82,
   "id": "db6cff71-8272-448c-9413-6f1879fb42a3",
   "metadata": {},
   "outputs": [
    {
     "name": "stdout",
     "output_type": "stream",
     "text": [
      "sorted list : ([10, 50, 60], [80, 20, 30], [70, 100, 40], [90])\n"
     ]
    }
   ],
   "source": [
    "t39 = ( [10, 50, 60], [80, 20, 30], [70, 100, 40], (90,) )\n",
    "l39 = [ list(e) if type(e) == tuple else e for e in t39]\n",
    "print(\"sorted list :\", tuple(sorted(l39, key=lambda x: min(x))))"
   ]
  },
  {
   "cell_type": "markdown",
   "id": "a0109d0e-df3a-49d9-aafa-d556ba4e4b06",
   "metadata": {},
   "source": [
    "**40. Write a Python program to Order Tuples using external List**"
   ]
  },
  {
   "cell_type": "code",
   "execution_count": 85,
   "id": "6de8494c-f72b-468f-b7b1-c7143ceb5188",
   "metadata": {},
   "outputs": [
    {
     "name": "stdout",
     "output_type": "stream",
     "text": [
      "Ordered list tuple : [('A', 67), ('B', 68), ('C', 69), ('D', 70)]\n"
     ]
    }
   ],
   "source": [
    "t40 = [ ('B', 68), ('D', 70), ('A', 67), ('C', 69) ]\n",
    "print(\"Ordered list tuple :\", list(sorted(t40)))"
   ]
  },
  {
   "cell_type": "markdown",
   "id": "ef4cb2be-3578-465f-addf-6246e3a2f33b",
   "metadata": {},
   "source": [
    "**41. Write a Python program to Filter Tuples by Kth element from List**"
   ]
  },
  {
   "cell_type": "code",
   "execution_count": 89,
   "id": "ae9d6509-9fa8-4106-9916-5838463972a3",
   "metadata": {},
   "outputs": [
    {
     "name": "stdout",
     "output_type": "stream",
     "text": [
      "Filtered tuple  [('D', 70), ('A', 67)]\n"
     ]
    }
   ],
   "source": [
    "t41 = [ ('B', 68), ('D', 70), ('A', 67), ('C', 69) ]\n",
    "Kelems = [67 , 70 , 71, 75]\n",
    "K = 1\n",
    "l41 = list(filter(lambda x: x[K] in Kelems, t41))\n",
    "print(\"Filtered tuple \", l41)"
   ]
  },
  {
   "cell_type": "markdown",
   "id": "52887bc5-a220-4337-8f96-84bc2ee3a32c",
   "metadata": {},
   "source": [
    "**42. Write a Python program to Closest Pair to Kth index element in Tuple**"
   ]
  },
  {
   "cell_type": "code",
   "execution_count": 98,
   "id": "4719e2af-fd51-4808-ae45-5631ac6aca62",
   "metadata": {},
   "outputs": [
    {
     "name": "stdout",
     "output_type": "stream",
     "text": [
      "Nearest Tuple  (23, 18)\n"
     ]
    }
   ],
   "source": [
    "t42 = [ (23, 18), (9, 2), (2, 3), (9, 18), (23, 2) ]\n",
    "t = (20,2)\n",
    "l42 = [ abs(e[0] - t[0]) for e in t42]\n",
    "inx = min(l42)\n",
    "t42ans = t42[l42.index(inx)]\n",
    "print(\"Nearest Tuple \", t42ans)"
   ]
  },
  {
   "cell_type": "markdown",
   "id": "ab443c29-75cd-4023-ac51-0c695c11fc50",
   "metadata": {},
   "source": [
    "**43. Write a Python program to Tuple List intersection (Order irrespective)**"
   ]
  },
  {
   "cell_type": "code",
   "execution_count": 118,
   "id": "99c28b25-30eb-4dcd-84e1-899b4a248d14",
   "metadata": {},
   "outputs": [
    {
     "name": "stdout",
     "output_type": "stream",
     "text": [
      "Intersection : {(4, 5), (5, 6), (3, 4)}\n"
     ]
    }
   ],
   "source": [
    "l43a = [ (3, 4), (5, 6), (9, 10), (4, 5) ]\n",
    "l43b = [ (5, 4), (3, 4), (6, 5), (9, 11) ]\n",
    "\n",
    "l43swappeed = [ (b, a) for a, b in l43b] \n",
    "s43a = set(l43swappeed).union(set(l43b))\n",
    "s43b = set(l43a) & s43a\n",
    "print(\"Intersection :\", s43b)"
   ]
  },
  {
   "cell_type": "markdown",
   "id": "65ca6e1e-405c-4ad6-bf6d-2184c268ea08",
   "metadata": {},
   "source": [
    "**44. Write a Python program to Intersection in Tuple Records Data**"
   ]
  },
  {
   "cell_type": "code",
   "execution_count": 119,
   "id": "ab304f70-d84b-4237-b174-90849e282ec4",
   "metadata": {},
   "outputs": [
    {
     "name": "stdout",
     "output_type": "stream",
     "text": [
      "Intersection of data records : {('D', 68), ('A', 65)}\n"
     ]
    }
   ],
   "source": [
    "l44a = [ ('A', 65), ('D', 68), ('B', 66) ]\n",
    "l44b = [ ('D', 68), ('C', 67), ('A', 65) ]\n",
    "\n",
    "inter = set(l44a) & set(l44b)\n",
    "\n",
    "print(\"Intersection of data records :\", inter)"
   ]
  },
  {
   "cell_type": "markdown",
   "id": "e9e785fa-c092-43fb-a0d8-45e5dd04a9d1",
   "metadata": {},
   "source": [
    "**45. Write a Python program to Unique Tuple Frequency (Order Irrespective)**"
   ]
  },
  {
   "cell_type": "code",
   "execution_count": 124,
   "id": "54aca9e4-aa74-4c44-9359-bc826e367415",
   "metadata": {},
   "outputs": [
    {
     "name": "stdout",
     "output_type": "stream",
     "text": [
      "Uniques tuples : [(3, 4), (1, 2), (5, 6)]\n",
      "Uniques tuples count : 3\n"
     ]
    }
   ],
   "source": [
    "l45 = [ (3, 4), (1, 2), (4, 3), (5, 6), (6,5) ]\n",
    "for a, b in l45:\n",
    "    if (b, a) in l45:\n",
    "        l45.remove((b,a))\n",
    "print(\"Uniques tuples :\", l45)\n",
    "print(\"Uniques tuples count :\", len(l45))"
   ]
  },
  {
   "cell_type": "markdown",
   "id": "4b8cef6d-029a-45e6-b0d3-fcdbde316aec",
   "metadata": {},
   "source": [
    "**46. Write a Python program to Skew Nested Tuple Summation**"
   ]
  },
  {
   "cell_type": "code",
   "execution_count": 126,
   "id": "60a24573-c682-4516-87d0-aab7f5fc3d88",
   "metadata": {},
   "outputs": [
    {
     "name": "stdout",
     "output_type": "stream",
     "text": [
      "Summation of 1st positions : 15\n"
     ]
    }
   ],
   "source": [
    "l46 = (1, (2, (3, (4, (5, None)))))\n",
    "sum = 0\n",
    "for i in range(5):\n",
    "    a, b = l46\n",
    "    sum += a\n",
    "    l46 = b\n",
    "print(\"Summation of 1st positions :\", sum)"
   ]
  },
  {
   "cell_type": "markdown",
   "id": "48a483de-7ef8-4e3f-af3a-734422416105",
   "metadata": {},
   "source": [
    "**47. Write a Python program to Convert Binary tuple to Integer**"
   ]
  },
  {
   "cell_type": "code",
   "execution_count": 131,
   "id": "94ada320-eb71-4f81-b46e-bfa4e4470437",
   "metadata": {},
   "outputs": [
    {
     "name": "stdout",
     "output_type": "stream",
     "text": [
      "Decimal : 10\n"
     ]
    }
   ],
   "source": [
    "t47 = (1, 0, 1, 0)\n",
    "n = len(t47)\n",
    "binary = 0\n",
    "for i in range(n):\n",
    "    binary += t47[n-i-1]*pow(2,i)\n",
    "print(\"Decimal :\", binary)"
   ]
  },
  {
   "cell_type": "markdown",
   "id": "2225b6d1-d049-4d96-a71b-36c04404c0ff",
   "metadata": {},
   "source": [
    "**48. Write a Python program to Tuple XOR operation**"
   ]
  },
  {
   "cell_type": "code",
   "execution_count": 137,
   "id": "40329de1-1943-47dd-89f0-e53765dc2dcb",
   "metadata": {},
   "outputs": [
    {
     "name": "stdout",
     "output_type": "stream",
     "text": [
      "XOR tuple : (15, 6, 5, 10)\n"
     ]
    }
   ],
   "source": [
    "t48a = (10, 4, 6, 9)\n",
    "t48b = (5, 2, 3, 3)\n",
    "\n",
    "t48ans = tuple(e1 ^ e2 for e1, e2 in zip(t48a, t48b))\n",
    "print(\"XOR tuple :\", t48ans)"
   ]
  },
  {
   "cell_type": "markdown",
   "id": "a97ca1e8-c327-4bc2-b4f5-10718c9456dd",
   "metadata": {},
   "source": [
    "**49. Write a Python program to AND operation between Tuples**"
   ]
  },
  {
   "cell_type": "code",
   "execution_count": 139,
   "id": "940d0808-106b-4304-aa6d-4af7c558d20b",
   "metadata": {},
   "outputs": [
    {
     "name": "stdout",
     "output_type": "stream",
     "text": [
      "AND tuple : (0, 0, 2, 1)\n"
     ]
    }
   ],
   "source": [
    "t49a = (10, 4, 6, 9)\n",
    "t49b = (5, 2, 3, 3)\n",
    "\n",
    "t49ans = tuple(e1 & e2 for e1, e2 in zip(t49a, t49b))\n",
    "print(\"AND tuple :\", t49ans)"
   ]
  },
  {
   "cell_type": "markdown",
   "id": "6734818c-d180-417c-ae1f-a4bbec2856f0",
   "metadata": {},
   "source": [
    "**50. Write a Python program to Elementwise AND in tuples**"
   ]
  },
  {
   "cell_type": "code",
   "execution_count": 140,
   "id": "b1d8ad45-9859-41d7-a578-17d440ed0913",
   "metadata": {},
   "outputs": [
    {
     "name": "stdout",
     "output_type": "stream",
     "text": [
      "AND tuple : (0, 0, 2, 1)\n"
     ]
    }
   ],
   "source": [
    "t50a = (10, 4, 6, 9)\n",
    "t50b = (5, 2, 3, 3)\n",
    "\n",
    "t50ans = tuple(e1 & e2 for e1, e2 in zip(t50a, t50b))\n",
    "print(\"AND tuple :\", t50ans)"
   ]
  },
  {
   "cell_type": "code",
   "execution_count": null,
   "id": "d625a250-598a-4053-97ed-efa6126dc20c",
   "metadata": {},
   "outputs": [],
   "source": []
  }
 ],
 "metadata": {
  "kernelspec": {
   "display_name": "Python 3 (ipykernel)",
   "language": "python",
   "name": "python3"
  },
  "language_info": {
   "codemirror_mode": {
    "name": "ipython",
    "version": 3
   },
   "file_extension": ".py",
   "mimetype": "text/x-python",
   "name": "python",
   "nbconvert_exporter": "python",
   "pygments_lexer": "ipython3",
   "version": "3.10.10"
  }
 },
 "nbformat": 4,
 "nbformat_minor": 5
}
