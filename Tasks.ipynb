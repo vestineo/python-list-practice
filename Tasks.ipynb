{
 "cells": [
  {
   "cell_type": "markdown",
   "id": "0ee821b6-9762-4f3e-b092-6e6327970b39",
   "metadata": {},
   "source": [
    "## Task 1"
   ]
  },
  {
   "cell_type": "markdown",
   "id": "863dc645-0c1a-4223-89e1-d8f0a1d5c633",
   "metadata": {},
   "source": [
    "**1. Ramesh's basic salary is input through the keyboard. His dearness allowance is 40% of\n",
    "basic salary, and house rent allowance is 20% of basic salary. Write a program to calculate\n",
    "his gross salary**"
   ]
  },
  {
   "cell_type": "code",
   "execution_count": 2,
   "id": "a030f59f-0c20-4604-afdc-2c64a0d820ce",
   "metadata": {},
   "outputs": [
    {
     "name": "stdin",
     "output_type": "stream",
     "text": [
      " 3000\n"
     ]
    },
    {
     "name": "stdout",
     "output_type": "stream",
     "text": [
      "basic salary of ramesh is  3000.0\n",
      "Gross salary of ramesh is  4800.0\n"
     ]
    }
   ],
   "source": [
    "basic = float(input())\n",
    "print(\"basic salary of ramesh is \", basic)\n",
    "dearness = 0.4*basic\n",
    "house = 0.2*basic\n",
    "print(\"Gross salary of ramesh is \", basic + dearness + house)"
   ]
  },
  {
   "cell_type": "markdown",
   "id": "2f75b8e4-694b-413e-b673-550254892b10",
   "metadata": {},
   "source": [
    "**2. The distance between two cities (in km.) is input through the keyboard. Write a program\n",
    "to convert and print this distance in meters, feet, inches and centimet**"
   ]
  },
  {
   "cell_type": "code",
   "execution_count": 5,
   "id": "c8d9fbbc-2f6d-45ed-8072-a61550dcde2f",
   "metadata": {},
   "outputs": [
    {
     "name": "stdin",
     "output_type": "stream",
     "text": [
      " 20\n"
     ]
    },
    {
     "name": "stdout",
     "output_type": "stream",
     "text": [
      "distance in kilometer 20.0 km\n",
      "distance in meter 20000.0 m\n",
      "distance in centimeter 2000000.0 cm\n",
      "distance in feet 65620.0 feet\n",
      "distance in inch 787440.0 inch\n"
     ]
    }
   ],
   "source": [
    "distance = float(input())\n",
    "meter = 1000*distance\n",
    "cm = 100*meter\n",
    "feet =  3.281*meter\n",
    "inch = 12*feet\n",
    "\n",
    "print(\"distance in kilometer\", distance, \"km\")\n",
    "print(\"distance in meter\", meter, \"m\")\n",
    "print(\"distance in centimeter\", cm, \"cm\")\n",
    "print(\"distance in feet\", feet, \"feet\")\n",
    "print(\"distance in inch\", inch, \"inch\")"
   ]
  },
  {
   "cell_type": "markdown",
   "id": "8473d694-2f3f-4bb3-a134-e3ae20733a10",
   "metadata": {},
   "source": [
    "**3. If the marks obtained by a student in five different subjects are input through the\n",
    "keyboard, find out the aggregate marks and percentage marks obtained by the student.\n",
    "Assume that the maximum marks that can be obtained by a student in each subject is 100.**"
   ]
  },
  {
   "cell_type": "code",
   "execution_count": 11,
   "id": "69762fa9-f15b-46af-a592-c41dba4d5038",
   "metadata": {},
   "outputs": [
    {
     "name": "stdout",
     "output_type": "stream",
     "text": [
      "Enter marks obtained in a subject\n"
     ]
    },
    {
     "name": "stdin",
     "output_type": "stream",
     "text": [
      "Hindi  50\n",
      "English  63\n",
      "Science  95\n",
      "Maths  42\n",
      "SSC  55\n"
     ]
    },
    {
     "name": "stdout",
     "output_type": "stream",
     "text": [
      "Total marks obtained are  305  and percentage is  61.0\n"
     ]
    }
   ],
   "source": [
    "print(\"Enter marks obtained in a subject\")\n",
    "h = int(input(\"Hindi \"))\n",
    "e = int(input(\"English \"))\n",
    "s = int(input(\"Science \"))\n",
    "m = int(input(\"Maths \"))\n",
    "ss = int(input(\"SSC \"))\n",
    "\n",
    "avg = (h+e+s+m+ss)\n",
    "percentage = avg*100/500\n",
    "\n",
    "print(\"Total marks obtained are \", avg, \" and percentage is \", percentage, \"%\")"
   ]
  },
  {
   "cell_type": "markdown",
   "id": "48a84a5e-afc3-48ef-ba30-9ec4a41a8968",
   "metadata": {},
   "source": [
    "**4. Temperature of a city in Fahrenheit degrees is input through the keyboard. Write a\n",
    "program to convert this temperature into Centigrade degrees.**"
   ]
  },
  {
   "cell_type": "code",
   "execution_count": 12,
   "id": "14e4bb41-44d0-45a9-97df-006238119311",
   "metadata": {},
   "outputs": [
    {
     "name": "stdin",
     "output_type": "stream",
     "text": [
      "Temperatur in Fahrenhit  39\n"
     ]
    },
    {
     "name": "stdout",
     "output_type": "stream",
     "text": [
      "Temperature in Centrigrade  3.888888888888889\n"
     ]
    }
   ],
   "source": [
    "fahren = float(input(\"Temperatur in Fahrenhit \"))\n",
    "print(\"Temperature in Centrigrade \",  (fahren - 32)*5/9, \"C\")"
   ]
  },
  {
   "cell_type": "markdown",
   "id": "34d9a704-99c7-4d0e-a2f5-330ba12aaedf",
   "metadata": {},
   "source": [
    "**5. The length & breadth of a rectangle and radius of a circle are input through the\n",
    "keyboard. Write a program to calculate the area & perimeter of the rectangle, and the area\n",
    "& circumference of the circle.**"
   ]
  },
  {
   "cell_type": "code",
   "execution_count": 13,
   "id": "821c8e7a-9337-43bc-aded-589c5177ebc4",
   "metadata": {},
   "outputs": [
    {
     "name": "stdin",
     "output_type": "stream",
     "text": [
      "Length of rectangle 5\n",
      "Width of rectangle 4\n"
     ]
    },
    {
     "name": "stdout",
     "output_type": "stream",
     "text": [
      "Area of rectangle is  20.0\n",
      "perimeter of rectangle is  18.0\n"
     ]
    }
   ],
   "source": [
    "lenght = float(input(\"Length of rectangle\"))\n",
    "width = float(input(\"Width of rectangle\"))\n",
    "print(\"Area of rectangle is \", lenght*width)\n",
    "print(\"perimeter of rectangle is \", 2*(lenght + width))"
   ]
  },
  {
   "cell_type": "markdown",
   "id": "d63b4551-1604-44db-bdc1-dcd43e2fb72c",
   "metadata": {},
   "source": [
    "**6. Two numbers are input through the keyboard into two locations C and D. Write a\n",
    "program to interchange the contents of C and D.**"
   ]
  },
  {
   "cell_type": "code",
   "execution_count": 15,
   "id": "eada6aa2-36a3-4e35-85d6-99066cc86674",
   "metadata": {},
   "outputs": [
    {
     "name": "stdin",
     "output_type": "stream",
     "text": [
      "input a number 3\n",
      "input another number 4\n"
     ]
    },
    {
     "name": "stdout",
     "output_type": "stream",
     "text": [
      "C  3 D 4\n",
      "After swapped: C  4  D  3\n"
     ]
    }
   ],
   "source": [
    "C = input(\"input a number\")\n",
    "D = input(\"input another number\")\n",
    "print(\"C \", C, \"D\", D)\n",
    "B = D\n",
    "D = C\n",
    "C = B\n",
    "print(\"After swapped: C \", C, \" D \", D)"
   ]
  },
  {
   "cell_type": "markdown",
   "id": "1785faaf-175d-4cae-ab45-0b401733673a",
   "metadata": {},
   "source": [
    "**7. If a five-digit number is input through the keyboard, write a program to calculate the\n",
    "sum of its digits. ( Hint: Use the modulus operator '%')**"
   ]
  },
  {
   "cell_type": "code",
   "execution_count": 25,
   "id": "573f8e5e-f4de-421f-936b-85f6a75992ba",
   "metadata": {},
   "outputs": [
    {
     "name": "stdin",
     "output_type": "stream",
     "text": [
      "Input a five digit number 56354\n"
     ]
    },
    {
     "name": "stdout",
     "output_type": "stream",
     "text": [
      "Sum of all the digits is  23\n"
     ]
    }
   ],
   "source": [
    "number = int(input(\"Input a five digit number\"))\n",
    "\n",
    "sum = 0\n",
    "for i in range(5):\n",
    "    d = 10**(4-i)\n",
    "    digit = (number - number%d)//d\n",
    "    number = number%d\n",
    "    sum += digit\n",
    "print(\"Sum of all the digits is \", sum)"
   ]
  },
  {
   "cell_type": "markdown",
   "id": "16746e2b-eaaf-43f9-80b0-8ecef90c4929",
   "metadata": {},
   "source": [
    "**8. If a five-digit number is input through the keyboard, write a program to reverse the\n",
    "number.**"
   ]
  },
  {
   "cell_type": "code",
   "execution_count": 28,
   "id": "cc6abd62-993a-4a43-b7fb-7d5e455e2dda",
   "metadata": {},
   "outputs": [
    {
     "name": "stdin",
     "output_type": "stream",
     "text": [
      "Input a five digit number 56354\n"
     ]
    },
    {
     "name": "stdout",
     "output_type": "stream",
     "text": [
      "Reversed number is  45365\n"
     ]
    }
   ],
   "source": [
    "number = int(input(\"Input a five digit number\"))\n",
    "sum = 0\n",
    "for i in range(5):\n",
    "    d = 10**(4-i)\n",
    "    digit = number//d\n",
    "    number = number%d\n",
    "    sum += digit*10**i\n",
    "print(\"Reversed number is \", sum)"
   ]
  },
  {
   "cell_type": "markdown",
   "id": "634da8bf-0f88-4e72-910d-b94076556e09",
   "metadata": {},
   "source": [
    "**9. If a four-digit number is input through the keyboard, write a program to obtain the sum\n",
    "of the first and last digit of this number.**"
   ]
  },
  {
   "cell_type": "code",
   "execution_count": 33,
   "id": "a144a0c9-9353-4835-b1b5-6d1ca73522b2",
   "metadata": {},
   "outputs": [
    {
     "name": "stdin",
     "output_type": "stream",
     "text": [
      "Input a four digit number 5632\n"
     ]
    },
    {
     "name": "stdout",
     "output_type": "stream",
     "text": [
      "First digit  5 Last digit  2\n"
     ]
    }
   ],
   "source": [
    "number = int(input(\"Input a four digit number\"))\n",
    "\n",
    "first = number//1000\n",
    "last = number%10\n",
    "print(\"First digit \", first, \"Last digit \", last) "
   ]
  },
  {
   "cell_type": "markdown",
   "id": "c8030a88-6c97-43ca-ad5a-b6c75998c3b8",
   "metadata": {},
   "source": [
    "**10. In a town, the percentage of men is 52. The percentage of total literacy is 48. If total\n",
    "percentage of literate men is 35 of the total population, write a program to find the total\n",
    "number of illiterate men and women if the population of the town is 80,000.**"
   ]
  },
  {
   "cell_type": "code",
   "execution_count": 34,
   "id": "3ccf0738-8877-4efd-b9a6-4da75d54d82a",
   "metadata": {},
   "outputs": [
    {
     "name": "stdout",
     "output_type": "stream",
     "text": [
      "Total number of illiterate men and women are  41600.0\n"
     ]
    }
   ],
   "source": [
    "population = 80000\n",
    "total_men = 0.52*population\n",
    "total_women = population - total_men\n",
    "lit_men = 0.35*population\n",
    "lit_pop = 0.48*population\n",
    "lit_women = lit_pop - lit_men\n",
    "ilit_pop = population-lit_pop\n",
    "\n",
    "print(\"Total number of illiterate men and women are \", ilit_pop)"
   ]
  },
  {
   "cell_type": "markdown",
   "id": "ca024b2d-5e48-4198-8986-6072fc86eda4",
   "metadata": {},
   "source": [
    "**11. A cashier has currency notes of denominations 10, 50 and 100. If the amount to be\n",
    "withdrawn is input through the keyboard in hundreds, find the total number of currency\n",
    "notes of each denomination the cashier will have to give to the withdrawer.**"
   ]
  },
  {
   "cell_type": "code",
   "execution_count": 35,
   "id": "0c79d00e-53f8-43af-ad73-9983c1229008",
   "metadata": {},
   "outputs": [
    {
     "name": "stdin",
     "output_type": "stream",
     "text": [
      "Input the money 5300\n"
     ]
    },
    {
     "name": "stdout",
     "output_type": "stream",
     "text": [
      "53  100 ruppe notes,  0  50 ruppe notes and  0  ten ruppe notes\n"
     ]
    }
   ],
   "source": [
    "money = int(input(\"Input the money\"))\n",
    "h = money//100\n",
    "money -= h*100\n",
    "f = money//50\n",
    "money -= f*50\n",
    "t = money//10\n",
    "print(h, \" 100 ruppe notes, \", f, \" 50 ruppe notes and \", t, \" ten ruppe notes\")"
   ]
  },
  {
   "cell_type": "markdown",
   "id": "9bacd4fc-1193-486b-bcf3-6a47000d6112",
   "metadata": {},
   "source": [
    "**12. If the total selling price of 15 items and the total profit earned on them is input through\n",
    "the keyboard, write a program to find the cost price of one item**"
   ]
  },
  {
   "cell_type": "code",
   "execution_count": 39,
   "id": "67997371-225a-46b5-a7bb-ba04ff0b7898",
   "metadata": {},
   "outputs": [
    {
     "name": "stdin",
     "output_type": "stream",
     "text": [
      "Selling price 25\n",
      "How much profit is gained? 50\n"
     ]
    },
    {
     "name": "stdout",
     "output_type": "stream",
     "text": [
      "Cost price of imtes is  21.666666666666668\n"
     ]
    }
   ],
   "source": [
    "sp = float(input(\"Selling price\"))\n",
    "profit = float(input(\"How much profit is gained?\"))\n",
    "items = 15\n",
    "cp = (sp*items - profit)/items\n",
    "print(\"Cost price of imtes is \", cp)"
   ]
  },
  {
   "cell_type": "markdown",
   "id": "3b6f592f-0aa0-4724-944d-d2bbe6167622",
   "metadata": {},
   "source": [
    "**13. If a five-digit number is input through the keyboard, write a program to print a new\n",
    "number by adding one to each of its digits. For example, if the number that is input is\n",
    "12391 then the output should be displayed as 23402.**"
   ]
  },
  {
   "cell_type": "code",
   "execution_count": 45,
   "id": "b2c36e00-dfc4-4a88-8d18-41ad635423d5",
   "metadata": {},
   "outputs": [
    {
     "name": "stdin",
     "output_type": "stream",
     "text": [
      "Input a five digit number 12391\n"
     ]
    },
    {
     "name": "stdout",
     "output_type": "stream",
     "text": [
      "Reversed number is  23402\n"
     ]
    }
   ],
   "source": [
    "number = int(input(\"Input a five digit number\"))\n",
    "sum = 0\n",
    "for i in range(5):\n",
    "    d = 10**(4-i)\n",
    "    digit = number//d + 1\n",
    "    if digit > 9:\n",
    "        digit = 0\n",
    "    number = number%d\n",
    "    sum += digit*d\n",
    "print(\"Reversed number is \", sum)"
   ]
  },
  {
   "cell_type": "markdown",
   "id": "c0c577c3-dc55-444c-866c-55e989308961",
   "metadata": {},
   "source": [
    "### Task 2"
   ]
  },
  {
   "cell_type": "markdown",
   "id": "b074e508-7202-4f7a-a713-e49d231b7bac",
   "metadata": {},
   "source": [
    "**1. While purchasing certain items, a discount of 10% is offered if the quantity purchased is\n",
    "more than 10. If quantity and price per item are input through the keyboard, write a\n",
    "program to calculate the total expenses**"
   ]
  },
  {
   "cell_type": "code",
   "execution_count": 63,
   "id": "a1425090-84a5-4f9b-aa62-7be0f03232af",
   "metadata": {},
   "outputs": [
    {
     "name": "stdin",
     "output_type": "stream",
     "text": [
      "Enter the quantity:  5\n",
      "Enter the price per item:  15\n"
     ]
    },
    {
     "name": "stdout",
     "output_type": "stream",
     "text": [
      "Total expenses: 75.0\n"
     ]
    }
   ],
   "source": [
    "quantity = int(input(\"Enter the quantity: \"))\n",
    "price_per_item = float(input(\"Enter the price per item: \"))\n",
    "\n",
    "if quantity > 10:\n",
    "    discount = 0.10 * price_per_item * quantity\n",
    "else:\n",
    "    discount = 0\n",
    "\n",
    "total_expenses = (price_per_item * quantity) - discount\n",
    "\n",
    "print(\"Total expenses:\", total_expenses)\n"
   ]
  },
  {
   "cell_type": "markdown",
   "id": "df084a5a-6231-4c1b-a02d-2a2dff8c19ff",
   "metadata": {},
   "source": [
    "**2. The current year and the year in which the employee joined the organization are entered\n",
    "through the keyboard. If the number of years for which the employee has served the\n",
    "organization is greater than 3 then a bonus of Rs. 2500/- is given to the employee. If the\n",
    "years of service are not greater than 3, then the program should do nothing.**"
   ]
  },
  {
   "cell_type": "code",
   "execution_count": 65,
   "id": "dffa1a78-d4f0-443d-b49d-7386fe8218aa",
   "metadata": {},
   "outputs": [
    {
     "name": "stdin",
     "output_type": "stream",
     "text": [
      "Enter the current year:  5\n",
      "Enter the year the employee joined the organization:  2022\n"
     ]
    }
   ],
   "source": [
    "current_year = int(input(\"Enter the current year: \"))\n",
    "join_year = int(input(\"Enter the year the employee joined the organization: \"))\n",
    "\n",
    "years_of_service = current_year - join_year\n",
    "\n",
    "if years_of_service > 3:\n",
    "    bonus = 2500\n",
    "    print(\"Bonus amount:\", bonus)\n"
   ]
  },
  {
   "cell_type": "markdown",
   "id": "42897c35-1e54-4256-811b-457845fae847",
   "metadata": {},
   "source": [
    "**3. If his basic salary is less than Rs. 1500, then HRA = 10% of basic salary and DA = 90% of\n",
    "basic salary. If his salary is either equal to or above Rs. 1500, then HRA = Rs. 500 and DA =\n",
    "98% of basic salary. If the employee's salary is input through the keyboard write a program\n",
    "to find his gross salary**"
   ]
  },
  {
   "cell_type": "code",
   "execution_count": 66,
   "id": "e8528fe9-bcf1-4d20-bb01-27803d929462",
   "metadata": {},
   "outputs": [
    {
     "name": "stdin",
     "output_type": "stream",
     "text": [
      "Enter the basic salary:  5300\n"
     ]
    },
    {
     "name": "stdout",
     "output_type": "stream",
     "text": [
      "Gross salary: 10994.0\n"
     ]
    }
   ],
   "source": [
    "basic_salary = float(input(\"Enter the basic salary: \"))\n",
    "\n",
    "if basic_salary < 1500:\n",
    "    HRA = 0.10 * basic_salary\n",
    "    DA = 0.90 * basic_salary\n",
    "else:\n",
    "    HRA = 500\n",
    "    DA = 0.98 * basic_salary\n",
    "\n",
    "gross_salary = basic_salary + HRA + DA\n",
    "\n",
    "print(\"Gross salary:\", gross_salary)\n"
   ]
  },
  {
   "cell_type": "markdown",
   "id": "fc83923e-6904-470d-88e9-9e28a7d75da6",
   "metadata": {},
   "source": [
    "**4. The marks obtained by a student in 5 different subjects are input through the keyboard. The student gets a division as per the following rules: Write a program to calculate the division obtained by the student.**\n",
    "\n",
    "a. Percentage above or equal to 60 - First division\n",
    "\n",
    "b. Percentage between 50 and 59 - Second division\n",
    "\n",
    "c. Percentage between 40 and 49 - Third division\n",
    "\n",
    "d. Percentage less than 40 – Fail"
   ]
  },
  {
   "cell_type": "code",
   "execution_count": 68,
   "id": "50acc08f-f7b3-44ea-b406-a9950fd48a13",
   "metadata": {},
   "outputs": [
    {
     "name": "stdin",
     "output_type": "stream",
     "text": [
      "Enter marks for subject 1:  54\n",
      "Enter marks for subject 2:  59\n",
      "Enter marks for subject 3:  76\n",
      "Enter marks for subject 4:  55\n",
      "Enter marks for subject 5:  65\n"
     ]
    },
    {
     "name": "stdout",
     "output_type": "stream",
     "text": [
      "Division obtained:  First division\n"
     ]
    }
   ],
   "source": [
    "mathematics = float(input(\"Enter marks for Mathematics: \"))\n",
    "science = float(input(\"Enter marks for Science: \"))\n",
    "social_science = float(input(\"Enter marks for Social Science: \"))\n",
    "english = float(input(\"Enter marks for English: \"))\n",
    "hindi = float(input(\"Enter marks for Hindi: \"))\n",
    "\n",
    "total_marks = mathematics + science + social_science + english + hindi\n",
    "percentage = (total_marks / 500) * 100\n",
    "\n",
    "if percentage >= 60:\n",
    "    division = \"First division\"\n",
    "elif 50 <= percentage <= 59:\n",
    "    division = \"Second division\"\n",
    "elif 40 <= percentage <= 49:\n",
    "    division = \"Third division\"\n",
    "else:\n",
    "    division = \"Fail\"\n",
    "\n",
    "print(\"Division obtained: \", division)"
   ]
  },
  {
   "cell_type": "markdown",
   "id": "9c2d42f1-9814-4592-b13e-2bb4ac4e6ee4",
   "metadata": {},
   "source": [
    "**5. A company insures its drivers in the following cases:**\n",
    "\n",
    "a. If the driver is married.\n",
    "\n",
    "b. If the driver is unmarried, male & above 30 years of age.\n",
    "\n",
    "c. If the driver is unmarried, female & above 25 years of age"
   ]
  },
  {
   "cell_type": "code",
   "execution_count": 70,
   "id": "4117322b-62cd-4757-b86b-2a37c41ab5e5",
   "metadata": {},
   "outputs": [
    {
     "name": "stdin",
     "output_type": "stream",
     "text": [
      "Is the driver married? (yes or no):  yes\n",
      "Enter the gender (male or female):  male\n",
      "Enter the driver's age:  35\n"
     ]
    },
    {
     "name": "stdout",
     "output_type": "stream",
     "text": [
      "The driver is eligible for insurance\n"
     ]
    }
   ],
   "source": [
    "marital_status = input(\"Is the driver married? (yes or no): \").lower()\n",
    "gender = input(\"Enter the gender (male or female): \").lower()\n",
    "age = int(input(\"Enter the driver's age: \"))\n",
    "\n",
    "eligible_for_insurance = False\n",
    "\n",
    "if marital_status == \"yes\":\n",
    "    eligible_for_insurance = True\n",
    "elif marital_status == \"no\" and gender == \"male\" and age > 30:\n",
    "    eligible_for_insurance = True\n",
    "elif marital_status == \"no\" and gender == \"female\" and age > 25:\n",
    "    eligible_for_insurance = True\n",
    "\n",
    "insurance_status = \"eligible for insurance\" if eligible_for_insurance else \"not eligible for insurance\"\n",
    "\n",
    "print(\"The driver is\", insurance_status)\n"
   ]
  },
  {
   "cell_type": "markdown",
   "id": "d745c4b5-5b96-4ea5-add3-26da3ea2a149",
   "metadata": {},
   "source": [
    "**6. Write a program to calculate the salary**"
   ]
  },
  {
   "cell_type": "code",
   "execution_count": 71,
   "id": "91bc0ea6-0326-4464-900e-667ca24151e0",
   "metadata": {},
   "outputs": [
    {
     "name": "stdin",
     "output_type": "stream",
     "text": [
      "Enter gender (Male or Female):  male\n",
      "Enter years of service:  11\n",
      "Enter qualifications (Post-Graduate or Graduate):  post-graduate\n"
     ]
    },
    {
     "name": "stdout",
     "output_type": "stream",
     "text": [
      "Calculated salary: 15000\n"
     ]
    }
   ],
   "source": [
    "gender = input(\"Enter gender (Male or Female): \").title()\n",
    "years_of_service = int(input(\"Enter years of service: \"))\n",
    "qualifications = input(\"Enter qualifications (Post-Graduate or Graduate): \").title()\n",
    "\n",
    "salary = 0\n",
    "\n",
    "if gender == \"Male\":\n",
    "    if years_of_service >= 10:\n",
    "        if qualifications == \"Post-Graduate\":\n",
    "            salary = 15000\n",
    "        else:\n",
    "            salary = 10000\n",
    "    else:\n",
    "        if qualifications == \"Post-Graduate\":\n",
    "            salary = 10000\n",
    "        else:\n",
    "            salary = 7000\n",
    "else:\n",
    "    if years_of_service >= 10:\n",
    "        if qualifications == \"Post-Graduate\":\n",
    "            salary = 12000\n",
    "        else:\n",
    "            salary = 9000\n",
    "    else:\n",
    "        if qualifications == \"Post-Graduate\":\n",
    "            salary = 10000\n",
    "        else:\n",
    "            salary = 6000\n",
    "\n",
    "print(\"Calculated salary:\", salary)"
   ]
  },
  {
   "cell_type": "markdown",
   "id": "87673843-fff8-4226-afa2-84e993d2e9d7",
   "metadata": {},
   "source": [
    "**7. If cost price and selling price of an item is input through the keyboard, write a program\n",
    "to determine whether the seller has made profit or incurred loss. Also determine how\n",
    "much profit he made or loss he incurred.**"
   ]
  },
  {
   "cell_type": "code",
   "execution_count": 73,
   "id": "a3634823-ea16-4e6f-959a-f34a29464c5f",
   "metadata": {},
   "outputs": [
    {
     "name": "stdin",
     "output_type": "stream",
     "text": [
      "Enter cost price:  500\n",
      "Enter selling price:  459\n"
     ]
    },
    {
     "name": "stdout",
     "output_type": "stream",
     "text": [
      "Loss: 41.0\n"
     ]
    }
   ],
   "source": [
    "cost_price = float(input(\"Enter cost price: \"))\n",
    "selling_price = float(input(\"Enter selling price: \"))\n",
    "\n",
    "if cost_price < selling_price:\n",
    "  profit = selling_price - cost_price\n",
    "  print(\"Profit:\", profit)\n",
    "elif cost_price > selling_price:\n",
    "  loss = cost_price - selling_price\n",
    "  print(\"Loss:\", loss)\n",
    "else:\n",
    "  print(\"No profit, no loss\")\n"
   ]
  },
  {
   "cell_type": "markdown",
   "id": "03c71a94-f499-4e99-9a34-55e1aa90f3df",
   "metadata": {},
   "source": [
    "**8. Any integer is input through the keyboard. Write a program to find out whether it is an\n",
    "odd number or even number. (Hint: Use the % (modulus) operator)**"
   ]
  },
  {
   "cell_type": "code",
   "execution_count": 75,
   "id": "661e7f10-c275-4db9-abcb-327fcd16e06b",
   "metadata": {},
   "outputs": [
    {
     "name": "stdin",
     "output_type": "stream",
     "text": [
      "Enter an integer:  5\n"
     ]
    },
    {
     "name": "stdout",
     "output_type": "stream",
     "text": [
      "The number is odd.\n"
     ]
    }
   ],
   "source": [
    "number = int(input(\"Enter an integer: \"))\n",
    "\n",
    "if number % 2 != 0:\n",
    "  print(\"The number is odd.\")\n",
    "else:\n",
    "  print(\"The number is even.\")\n"
   ]
  },
  {
   "cell_type": "markdown",
   "id": "6323b1c5-612b-4a8c-b1a8-0dbc05e27854",
   "metadata": {},
   "source": [
    "**9. A five-digit number is entered through the keyboard. Write a program to obtain the\n",
    "reversed number and to determine whether the original and reversed numbers are equal\n",
    "or not.**"
   ]
  },
  {
   "cell_type": "code",
   "execution_count": 76,
   "id": "996c3568-2eff-49cb-af05-f334cdc7530d",
   "metadata": {},
   "outputs": [
    {
     "name": "stdin",
     "output_type": "stream",
     "text": [
      "Enter a five-digit number:  50354\n"
     ]
    },
    {
     "name": "stdout",
     "output_type": "stream",
     "text": [
      "The original and reversed numbers are not equal.\n"
     ]
    }
   ],
   "source": [
    "number = int(input(\"Enter a five-digit number: \"))\n",
    "\n",
    "reversed_number = 0\n",
    "while number > 0:\n",
    "  remainder = number % 10\n",
    "  reversed_number = reversed_number * 10 + remainder\n",
    "  number //= 10\n",
    "\n",
    "if number == reversed_number:\n",
    "  print(\"The original and reversed numbers are equal.\")\n",
    "else:\n",
    "  print(\"The original and reversed numbers are not equal.\")\n"
   ]
  },
  {
   "cell_type": "markdown",
   "id": "638204ba-1b55-4072-a3a1-aad329ce54e3",
   "metadata": {},
   "source": [
    "**10. If the ages of Ram, Shyam and Ajay are input through the keyboard, write a program to\n",
    "determine the youngest of the three.**"
   ]
  },
  {
   "cell_type": "code",
   "execution_count": 77,
   "id": "b6bdf74c-47b5-437d-b183-f93df82ea84a",
   "metadata": {},
   "outputs": [
    {
     "name": "stdin",
     "output_type": "stream",
     "text": [
      "Enter Ram's age:  4\n",
      "Enter Shyam's age:  3\n",
      "Enter Ajay's age:  5\n"
     ]
    },
    {
     "name": "stdout",
     "output_type": "stream",
     "text": [
      "The youngest of the three ages is: 3\n"
     ]
    }
   ],
   "source": [
    "ram_age = int(input(\"Enter Ram's age: \"))\n",
    "shyam_age = int(input(\"Enter Shyam's age: \"))\n",
    "ajay_age = int(input(\"Enter Ajay's age: \"))\n",
    "\n",
    "if ram_age < shyam_age and ram_age < ajay_age:\n",
    "  youngest = ram_age\n",
    "elif shyam_age < ram_age and shyam_age < ajay_age:\n",
    "  youngest = shyam_age\n",
    "else:\n",
    "  youngest = ajay_age\n",
    "\n",
    "print(\"The youngest of the three ages is:\", youngest)\n"
   ]
  },
  {
   "cell_type": "markdown",
   "id": "9ad51718-4c69-4998-a1d9-5920c4acd145",
   "metadata": {},
   "source": [
    "**11. Write a program to check whether a triangle is valid or not, when the three angles of\n",
    "the triangle are entered through the keyboard. A triangle is valid if the sum of all the three\n",
    "angles is equal to 180 degrees.**"
   ]
  },
  {
   "cell_type": "code",
   "execution_count": 78,
   "id": "3ba1b1b4-480f-46e0-bfc0-ec8aa83be1d6",
   "metadata": {},
   "outputs": [
    {
     "name": "stdin",
     "output_type": "stream",
     "text": [
      "Enter the first angle:  56\n",
      "Enter the second angle:  45\n",
      "Enter the third angle:  95\n"
     ]
    },
    {
     "name": "stdout",
     "output_type": "stream",
     "text": [
      "The triangle is not valid.\n"
     ]
    }
   ],
   "source": [
    "angle1 = float(input(\"Enter the first angle: \"))\n",
    "angle2 = float(input(\"Enter the second angle: \"))\n",
    "angle3 = float(input(\"Enter the third angle: \"))\n",
    "\n",
    "if angle1 + angle2 + angle3 == 180:\n",
    "  print(\"The triangle is valid.\")\n",
    "else:\n",
    "  print(\"The triangle is not valid.\")\n"
   ]
  },
  {
   "cell_type": "markdown",
   "id": "40ea47f1-9fa9-4ce7-910a-b3ba89404173",
   "metadata": {},
   "source": [
    "**12. Find the absolute value of a number entered through the keyboard.**"
   ]
  },
  {
   "cell_type": "code",
   "execution_count": 79,
   "id": "51c765d2-efc7-406b-9cf2-c24822893862",
   "metadata": {},
   "outputs": [
    {
     "name": "stdin",
     "output_type": "stream",
     "text": [
      "Enter a number:  52\n"
     ]
    },
    {
     "name": "stdout",
     "output_type": "stream",
     "text": [
      "The absolute value of the number is: 52.0\n"
     ]
    }
   ],
   "source": [
    "number = float(input(\"Enter a number: \"))\n",
    "\n",
    "if number < 0:\n",
    "  absolute_value = -number\n",
    "else:\n",
    "  absolute_value = number\n",
    "\n",
    "print(\"The absolute value of the number is:\", absolute_value)\n"
   ]
  },
  {
   "cell_type": "markdown",
   "id": "a8914f97-b5f2-4997-9261-5d8d7eec98ba",
   "metadata": {},
   "source": [
    "**13. Given the length and breadth of a rectangle, write a program to find whether the area\n",
    "of the rectangle is greater than its perimeter. For example, the area of the rectangle with\n",
    "length = 5 and breadth = 4 is greater than its perimeter**"
   ]
  },
  {
   "cell_type": "code",
   "execution_count": 80,
   "id": "16bf5048-8845-4dd7-ae43-055e3a185196",
   "metadata": {},
   "outputs": [
    {
     "name": "stdin",
     "output_type": "stream",
     "text": [
      "Enter the length of the rectangle:  5\n",
      "Enter the breadth of the rectangle:  6\n"
     ]
    },
    {
     "name": "stdout",
     "output_type": "stream",
     "text": [
      "The area of the rectangle is greater than its perimeter.\n"
     ]
    }
   ],
   "source": [
    "length = float(input(\"Enter the length of the rectangle: \"))\n",
    "breadth = float(input(\"Enter the breadth of the rectangle: \"))\n",
    "\n",
    "area = length * breadth\n",
    "perimeter = 2 * (length + breadth)\n",
    "\n",
    "if area > perimeter:\n",
    "  print(\"The area of the rectangle is greater than its perimeter.\")\n",
    "else:\n",
    "  print(\"The area of the rectangle is not greater than its perimeter.\")\n"
   ]
  },
  {
   "cell_type": "markdown",
   "id": "da683e39-dcf1-4096-9f3b-bf04d7260dd9",
   "metadata": {},
   "source": [
    "**14. Any year is entered through the keyboard, write a program to determine whether the\n",
    "year is leap or not. Use the logical operators && and ||.**"
   ]
  },
  {
   "cell_type": "code",
   "execution_count": 81,
   "id": "9e1dd81b-ae02-4c12-9aa4-d16c556cc22c",
   "metadata": {},
   "outputs": [
    {
     "name": "stdin",
     "output_type": "stream",
     "text": [
      "Enter a year:  2020\n"
     ]
    },
    {
     "name": "stdout",
     "output_type": "stream",
     "text": [
      "The year is a leap year.\n"
     ]
    }
   ],
   "source": [
    "year = int(input(\"Enter a year: \"))\n",
    "\n",
    "if (year % 4 == 0 and year % 100 != 0) or year % 400 == 0:\n",
    "  print(\"The year is a leap year.\")\n",
    "else:\n",
    "  print(\"The year is not a leap year.\")\n"
   ]
  },
  {
   "cell_type": "markdown",
   "id": "ea4add88-c47d-499c-9954-af25b58aebb4",
   "metadata": {},
   "source": [
    "**15.Write a program, which will require the user to give values of hardness, carbon content and\n",
    "tensile strength of the steel under consideration and output the grade of the steel.**"
   ]
  },
  {
   "cell_type": "code",
   "execution_count": 82,
   "id": "b8685d2b-194a-460e-bd2d-9266831cceea",
   "metadata": {},
   "outputs": [
    {
     "name": "stdin",
     "output_type": "stream",
     "text": [
      "Enter hardness:  5\n",
      "Enter carbon content:  45\n",
      "Enter tensile strength:  85\n"
     ]
    },
    {
     "name": "stdout",
     "output_type": "stream",
     "text": [
      "The grade of the steel is: 5\n"
     ]
    }
   ],
   "source": [
    "hardness = float(input(\"Enter hardness: \"))\n",
    "carbon_content = float(input(\"Enter carbon content: \"))\n",
    "tensile_strength = float(input(\"Enter tensile strength: \"))\n",
    "\n",
    "grade = 5\n",
    "\n",
    "if hardness > 50 and carbon_content < 0.7 and tensile_strength > 5600:\n",
    "    grade = 10\n",
    "elif hardness > 50 and carbon_content < 0.7:\n",
    "    grade = 9\n",
    "elif carbon_content < 0.7 and tensile_strength > 5600:\n",
    "    grade = 8\n",
    "elif hardness > 50 and tensile_strength > 5600:\n",
    "    grade = 7\n",
    "elif hardness > 50 or carbon_content < 0.7 or tensile_strength > 5600:\n",
    "    grade = 6\n",
    "\n",
    "print(\"The grade of the steel is:\", grade)\n"
   ]
  },
  {
   "cell_type": "markdown",
   "id": "e79f3e7f-559b-4df6-a3f0-92dd8839353b",
   "metadata": {},
   "source": [
    "**16. A library charges a fine for every book returned late. For first 5 days the fine is 50\n",
    "paise, for 6-10 days fine is one rupee and above 10 days fine is 5 rupees. If you return the\n",
    "book after 30 days your membership will be cancelled. Write a program to accept the\n",
    "number of days the member is late to return the book and display the fine or the\n",
    "appropriate message.**"
   ]
  },
  {
   "cell_type": "code",
   "execution_count": 84,
   "id": "da5c1dc4-0af8-4d0f-a680-6c6b25ad792d",
   "metadata": {},
   "outputs": [
    {
     "name": "stdin",
     "output_type": "stream",
     "text": [
      "Enter the number of days the book is late:  6\n"
     ]
    },
    {
     "name": "stdout",
     "output_type": "stream",
     "text": [
      "The fine is 1 rupee.\n"
     ]
    }
   ],
   "source": [
    "days_late = int(input(\"Enter the number of days the book is late: \"))\n",
    "\n",
    "if days_late <= 5:\n",
    "  fine = 0.5\n",
    "  print(\"The fine is\", fine, \"rupees.\")\n",
    "elif days_late <= 10:\n",
    "  fine = 1\n",
    "  print(\"The fine is\", fine, \"rupee.\")\n",
    "elif days_late <= 30:\n",
    "  fine = 5\n",
    "  print(\"The fine is\", fine, \"rupees.\")\n",
    "else:\n",
    "  print(\"Your membership will be cancelled.\")\n"
   ]
  },
  {
   "cell_type": "markdown",
   "id": "04903c4e-a4db-41b3-8787-bb4c6a9dc443",
   "metadata": {},
   "source": [
    "**17. In a company, worker efficiency is determined on the basis of the time required for a\n",
    "worker to complete a particular job. If the time taken by the worker is between 2 – 3\n",
    "hours, then the worker is said to be highly efficient. If the time required by the worker is\n",
    "between 3 – 4 hours, then the worker is ordered to improve speed. If the time taken is\n",
    "between 4 – 5 hours, the worker is given training to improve his speed, and if the time\n",
    "taken by the worker is more than 5 hours, then the worker has to leave the company. If the\n",
    "time taken by the worker is input through the keyboard, find the efficiency of the worker.**"
   ]
  },
  {
   "cell_type": "code",
   "execution_count": 83,
   "id": "dc76d75c-ea42-40bb-9fdc-7747e8d3abd8",
   "metadata": {},
   "outputs": [
    {
     "name": "stdin",
     "output_type": "stream",
     "text": [
      "Enter the time taken by the worker to complete the job in hours:  12\n"
     ]
    },
    {
     "name": "stdout",
     "output_type": "stream",
     "text": [
      "The worker has to leave the company.\n"
     ]
    }
   ],
   "source": [
    "time_taken = float(input(\"Enter the time taken by the worker to complete the job in hours: \"))\n",
    "\n",
    "if time_taken >= 5:\n",
    "  print(\"The worker has to leave the company.\")\n",
    "elif time_taken >= 4 and time_taken < 5:\n",
    "  print(\"The worker is given training to improve his speed.\")\n",
    "elif time_taken >= 3 and time_taken < 4:\n",
    "  print(\"The worker is ordered to improve speed.\")\n",
    "elif time_taken >= 2 and time_taken < 3:\n",
    "  print(\"The worker is highly efficient.\")\n",
    "else:\n",
    "  print(\"The worker is very efficient.\")\n"
   ]
  },
  {
   "cell_type": "markdown",
   "id": "e69ab590-f80d-4993-9542-3767f280ddd4",
   "metadata": {},
   "source": [
    "### Task 3"
   ]
  },
  {
   "cell_type": "markdown",
   "id": "39106529-9f27-4047-b5d9-4576424fc14f",
   "metadata": {},
   "source": [
    "**1. Write a program to find the factor of the given number.**"
   ]
  },
  {
   "cell_type": "code",
   "execution_count": 46,
   "id": "f09dfee2-2257-4385-af7f-40cc1de5bbf6",
   "metadata": {},
   "outputs": [
    {
     "name": "stdin",
     "output_type": "stream",
     "text": [
      "Enter a number:  4563\n"
     ]
    },
    {
     "name": "stdout",
     "output_type": "stream",
     "text": [
      "Factors of 4563 are:\n",
      "1\n",
      "3\n",
      "9\n",
      "13\n",
      "27\n",
      "39\n",
      "117\n",
      "169\n",
      "351\n",
      "507\n",
      "1521\n",
      "4563\n"
     ]
    }
   ],
   "source": [
    "num = int(input(\"Enter a number: \"))\n",
    "print(\"Factors of\", num, \"are:\")\n",
    "for i in range(1, num + 1):\n",
    "    if num % i == 0:\n",
    "        print(i)\n"
   ]
  },
  {
   "cell_type": "markdown",
   "id": "fa070f8e-1a6f-4030-b06e-f21c6a4e448f",
   "metadata": {},
   "source": [
    "**2. Write a program to find whether the given number is prime or not.**"
   ]
  },
  {
   "cell_type": "code",
   "execution_count": 47,
   "id": "66978357-088f-487d-8886-9eecefccff34",
   "metadata": {},
   "outputs": [
    {
     "name": "stdin",
     "output_type": "stream",
     "text": [
      "Enter a number:  5\n"
     ]
    },
    {
     "name": "stdout",
     "output_type": "stream",
     "text": [
      "5 is a prime number\n"
     ]
    }
   ],
   "source": [
    "num = int(input(\"Enter a number: \"))\n",
    "if num > 1:\n",
    "    for i in range(2, num):\n",
    "        if (num % i) == 0:\n",
    "            print(num, \"is not a prime number\")\n",
    "            break\n",
    "    else:\n",
    "        print(num, \"is a prime number\")\n",
    "else:\n",
    "    print(num, \"is not a prime number\")\n"
   ]
  },
  {
   "cell_type": "markdown",
   "id": "64ac1657-e2a1-4cfb-a0f0-4646cfba8c2b",
   "metadata": {},
   "source": [
    "**3. Write a program to find the given number is Armstrong number or not.**"
   ]
  },
  {
   "cell_type": "code",
   "execution_count": 48,
   "id": "fb1c011d-6c16-4893-b394-35b36cd31907",
   "metadata": {},
   "outputs": [
    {
     "name": "stdin",
     "output_type": "stream",
     "text": [
      "Enter a number:  45646545640654\n"
     ]
    },
    {
     "name": "stdout",
     "output_type": "stream",
     "text": [
      "45646545640654 is not an Armstrong number\n"
     ]
    }
   ],
   "source": [
    "num = int(input(\"Enter a number: \"))\n",
    "temp = num\n",
    "sum = 0\n",
    "while temp > 0:\n",
    "    digit = temp % 10\n",
    "    sum += digit ** 3\n",
    "    temp //= 10\n",
    "if num == sum:\n",
    "    print(num, \"is an Armstrong number\")\n",
    "else:\n",
    "    print(num, \"is not an Armstrong number\")\n"
   ]
  },
  {
   "cell_type": "markdown",
   "id": "eec79097-af4c-4b89-b598-728e5e231d8a",
   "metadata": {},
   "source": [
    "**4. Write a program to print the Armstrong numbers between 100 to 999.**"
   ]
  },
  {
   "cell_type": "code",
   "execution_count": 49,
   "id": "b3e6f212-fc42-4798-8ac9-5adf62cd6069",
   "metadata": {},
   "outputs": [
    {
     "name": "stdout",
     "output_type": "stream",
     "text": [
      "153\n",
      "370\n",
      "371\n",
      "407\n"
     ]
    }
   ],
   "source": [
    "for num in range(100, 1000):\n",
    "    temp = num\n",
    "    sum = 0\n",
    "    while temp > 0:\n",
    "        digit = temp % 10\n",
    "        sum += digit ** 3\n",
    "        temp //= 10\n",
    "    if num == sum:\n",
    "        print(num)\n"
   ]
  },
  {
   "cell_type": "markdown",
   "id": "7d0b2c86-cb65-449f-ade6-7d3b533bf1c6",
   "metadata": {},
   "source": [
    "**5. Write a program to count and print the number of odd and even numbers.**"
   ]
  },
  {
   "cell_type": "code",
   "execution_count": 50,
   "id": "19d6ae16-0908-4ad7-93db-b2c9192393d7",
   "metadata": {},
   "outputs": [
    {
     "name": "stdout",
     "output_type": "stream",
     "text": [
      "Even numbers: 50\n",
      "Odd numbers: 50\n"
     ]
    }
   ],
   "source": [
    "start = 1\n",
    "end = 100\n",
    "even_count = 0\n",
    "odd_count = 0\n",
    "for num in range(start, end + 1):\n",
    "    if num % 2 == 0:\n",
    "        even_count += 1\n",
    "    else:\n",
    "        odd_count += 1\n",
    "print(\"Even numbers:\", even_count)\n",
    "print(\"Odd numbers:\", odd_count)\n"
   ]
  },
  {
   "cell_type": "markdown",
   "id": "a80cfff2-25ef-4e82-a20b-c9de141aad04",
   "metadata": {},
   "source": [
    "**6. Write a program to find the reverse of n digit number using While loop**"
   ]
  },
  {
   "cell_type": "code",
   "execution_count": 51,
   "id": "ba9f85d4-7c94-4041-b2ac-05acccaf8d0a",
   "metadata": {},
   "outputs": [
    {
     "name": "stdin",
     "output_type": "stream",
     "text": [
      "Enter a number:  45\n"
     ]
    },
    {
     "name": "stdout",
     "output_type": "stream",
     "text": [
      "Reversed number: 54\n"
     ]
    }
   ],
   "source": [
    "num = int(input(\"Enter a number: \"))\n",
    "reverse = 0\n",
    "while num > 0:\n",
    "    digit = num % 10\n",
    "    reverse = (reverse * 10) + digit\n",
    "    num //= 10\n",
    "print(\"Reversed number:\", reverse)\n"
   ]
  },
  {
   "cell_type": "markdown",
   "id": "0e61bb39-de1f-43d7-84e1-6f75a4c065db",
   "metadata": {},
   "source": [
    "**7. Write a program to find the binary number from given decimal number.**"
   ]
  },
  {
   "cell_type": "code",
   "execution_count": 52,
   "id": "1738212a-e68d-416d-96fb-1ed4ae5296c9",
   "metadata": {},
   "outputs": [
    {
     "name": "stdin",
     "output_type": "stream",
     "text": [
      "Enter a decimal number:  4545\n"
     ]
    },
    {
     "name": "stdout",
     "output_type": "stream",
     "text": [
      "Binary representation: 0b1000111000001\n"
     ]
    }
   ],
   "source": [
    "decimal = int(input(\"Enter a decimal number: \"))\n",
    "binary = bin(decimal)\n",
    "print(\"Binary representation:\", binary)\n"
   ]
  },
  {
   "cell_type": "markdown",
   "id": "53635570-8a77-49ca-9cf3-e85170402f87",
   "metadata": {},
   "source": [
    "**8. Write a program to find the decimal number from given Binary number.**"
   ]
  },
  {
   "cell_type": "code",
   "execution_count": 53,
   "id": "14d20fc7-8860-4ad1-964b-59650ae11968",
   "metadata": {},
   "outputs": [
    {
     "name": "stdin",
     "output_type": "stream",
     "text": [
      "Enter a decimal number:  10101\n"
     ]
    },
    {
     "name": "stdout",
     "output_type": "stream",
     "text": [
      "Binary representation: 0b10011101110101\n"
     ]
    }
   ],
   "source": [
    "decimal = int(input(\"Enter a decimal number: \"))\n",
    "binary = bin(decimal)\n",
    "print(\"Binary representation:\", binary)\n"
   ]
  },
  {
   "cell_type": "markdown",
   "id": "9f21f1d3-7530-451d-b713-c1874ba7bb5f",
   "metadata": {},
   "source": [
    "**9. Write a program to find the factorial of the given number.**"
   ]
  },
  {
   "cell_type": "code",
   "execution_count": 54,
   "id": "1d8e6171-0d7a-48db-a9b8-b9bd57c51324",
   "metadata": {},
   "outputs": [
    {
     "name": "stdin",
     "output_type": "stream",
     "text": [
      "Enter a number:  5\n"
     ]
    },
    {
     "name": "stdout",
     "output_type": "stream",
     "text": [
      "Factorial of 5 is 120\n"
     ]
    }
   ],
   "source": [
    "num = int(input(\"Enter a number: \"))\n",
    "factorial = 1\n",
    "for i in range(1, num + 1):\n",
    "    factorial *= i\n",
    "print(\"Factorial of\", num, \"is\", factorial)\n"
   ]
  },
  {
   "cell_type": "markdown",
   "id": "efed25c5-4af1-4387-97af-7a2d9a1f91bf",
   "metadata": {},
   "source": [
    "**10. Write a program to find the Fibonacci Series of the given number.**"
   ]
  },
  {
   "cell_type": "code",
   "execution_count": 56,
   "id": "13ba9993-7691-427b-83e5-10fd1deade72",
   "metadata": {},
   "outputs": [
    {
     "name": "stdin",
     "output_type": "stream",
     "text": [
      "Enter a number:  5\n"
     ]
    },
    {
     "name": "stdout",
     "output_type": "stream",
     "text": [
      "Factorial of 5 is 120\n"
     ]
    }
   ],
   "source": [
    "num = int(input(\"Enter a number: \"))\n",
    "factorial = 1\n",
    "for i in range(1, num + 1):\n",
    "    factorial *= i\n",
    "print(\"Factorial of\", num, \"is\", factorial)\n"
   ]
  },
  {
   "cell_type": "markdown",
   "id": "abd503ca-4c48-42f3-a971-91fd11d731fc",
   "metadata": {},
   "source": [
    "**11. Write a program to find the given number is perfect number**"
   ]
  },
  {
   "cell_type": "code",
   "execution_count": 57,
   "id": "91699b5c-ff67-4906-a681-c915c6211ea5",
   "metadata": {},
   "outputs": [
    {
     "name": "stdin",
     "output_type": "stream",
     "text": [
      "Enter a number:  56\n"
     ]
    },
    {
     "name": "stdout",
     "output_type": "stream",
     "text": [
      "56 is not a perfect number\n"
     ]
    }
   ],
   "source": [
    "num = int(input(\"Enter a number: \"))\n",
    "sum = 0\n",
    "for i in range(1, num):\n",
    "    if num % i == 0:\n",
    "        sum += i\n",
    "if sum == num:\n",
    "    print(num, \"is a perfect number\")\n",
    "else:\n",
    "    print(num, \"is not a perfect number\")"
   ]
  },
  {
   "cell_type": "markdown",
   "id": "70467ac1-6b2c-4910-935c-64f915476199",
   "metadata": {},
   "source": [
    "**12. Write a program to print the perfect number between 1-1000**"
   ]
  },
  {
   "cell_type": "code",
   "execution_count": 58,
   "id": "98f11034-8d66-4195-8e18-054149a94540",
   "metadata": {},
   "outputs": [
    {
     "name": "stdout",
     "output_type": "stream",
     "text": [
      "6\n",
      "28\n",
      "496\n"
     ]
    }
   ],
   "source": [
    "for num in range(1, 1001):\n",
    "    sum = 0\n",
    "    for i in range(1, num):\n",
    "        if num % i == 0:\n",
    "            sum += i\n",
    "    if sum == num:\n",
    "        print(num)"
   ]
  },
  {
   "cell_type": "markdown",
   "id": "fb382c3c-66c8-41d8-bd69-796ef86a432b",
   "metadata": {},
   "source": [
    "**13. Write a program to find the given number is strong number**"
   ]
  },
  {
   "cell_type": "code",
   "execution_count": 59,
   "id": "42a38b10-ce9f-460e-86fa-a0e89da72e74",
   "metadata": {},
   "outputs": [
    {
     "name": "stdin",
     "output_type": "stream",
     "text": [
      "Enter a number:  45\n"
     ]
    },
    {
     "name": "stdout",
     "output_type": "stream",
     "text": [
      "45 is not a strong number\n"
     ]
    }
   ],
   "source": [
    "def factorial(n):\n",
    "    if n == 0:\n",
    "        return 1\n",
    "    else:\n",
    "        return n * factorial(n - 1)\n",
    "\n",
    "num = int(input(\"Enter a number: \"))\n",
    "temp = num\n",
    "sum = 0\n",
    "while temp > 0:\n",
    "    digit = temp % 10\n",
    "    sum += factorial(digit)\n",
    "    temp //= 10\n",
    "if num == sum:\n",
    "    print(num, \"is a strong number\")\n",
    "else:\n",
    "    print(num, \"is not a strong number\")"
   ]
  },
  {
   "cell_type": "markdown",
   "id": "52b6124c-f9e1-46c3-bb08-3db3c38fdcba",
   "metadata": {},
   "source": [
    "**14. Two numbers are entered through the keyboard. Write a program to find the value of\n",
    "one number raised to the power of another.**"
   ]
  },
  {
   "cell_type": "code",
   "execution_count": 60,
   "id": "d2a72dc1-541d-43f0-9637-9e3653d7a9ff",
   "metadata": {},
   "outputs": [
    {
     "name": "stdin",
     "output_type": "stream",
     "text": [
      "Enter the base number:  2\n",
      "Enter the exponent:  5\n"
     ]
    },
    {
     "name": "stdout",
     "output_type": "stream",
     "text": [
      "2 raised to the power of 5 is 32\n"
     ]
    }
   ],
   "source": [
    "base = int(input(\"Enter the base number: \"))\n",
    "exponent = int(input(\"Enter the exponent: \"))\n",
    "result = base ** exponent\n",
    "print(base, \"raised to the power of\", exponent, \"is\", result)"
   ]
  },
  {
   "cell_type": "code",
   "execution_count": null,
   "id": "33ed627f-d0f4-42a0-89c8-d5909f26d99f",
   "metadata": {},
   "outputs": [],
   "source": []
  }
 ],
 "metadata": {
  "kernelspec": {
   "display_name": "Python 3 (ipykernel)",
   "language": "python",
   "name": "python3"
  },
  "language_info": {
   "codemirror_mode": {
    "name": "ipython",
    "version": 3
   },
   "file_extension": ".py",
   "mimetype": "text/x-python",
   "name": "python",
   "nbconvert_exporter": "python",
   "pygments_lexer": "ipython3",
   "version": "3.10.8"
  }
 },
 "nbformat": 4,
 "nbformat_minor": 5
}
